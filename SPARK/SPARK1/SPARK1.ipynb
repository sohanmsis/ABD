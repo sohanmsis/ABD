{
  "nbformat": 4,
  "nbformat_minor": 0,
  "metadata": {
    "colab": {
      "provenance": []
    },
    "kernelspec": {
      "name": "python3",
      "display_name": "Python 3"
    },
    "language_info": {
      "name": "python"
    }
  },
  "cells": [
    {
      "cell_type": "code",
      "execution_count": null,
      "metadata": {
        "id": "gcDUa7C3JH8O",
        "colab": {
          "base_uri": "https://localhost:8080/"
        },
        "outputId": "31438947-0b13-41b6-8c10-afbdab8e7aaf"
      },
      "outputs": [
        {
          "output_type": "stream",
          "name": "stdout",
          "text": [
            "Collecting pyspark\n",
            "  Downloading pyspark-3.5.0.tar.gz (316.9 MB)\n",
            "\u001b[2K     \u001b[90m━━━━━━━━━━━━━━━━━━━━━━━━━━━━━━━━━━━━━━━━\u001b[0m \u001b[32m316.9/316.9 MB\u001b[0m \u001b[31m2.1 MB/s\u001b[0m eta \u001b[36m0:00:00\u001b[0m\n",
            "\u001b[?25h  Preparing metadata (setup.py) ... \u001b[?25l\u001b[?25hdone\n",
            "Requirement already satisfied: py4j==0.10.9.7 in /usr/local/lib/python3.10/dist-packages (from pyspark) (0.10.9.7)\n",
            "Building wheels for collected packages: pyspark\n",
            "  Building wheel for pyspark (setup.py) ... \u001b[?25l\u001b[?25hdone\n",
            "  Created wheel for pyspark: filename=pyspark-3.5.0-py2.py3-none-any.whl size=317425344 sha256=6099c6231ad970c97429905ccaad697022e57c3e50d34883e4194302f4ef0479\n",
            "  Stored in directory: /root/.cache/pip/wheels/41/4e/10/c2cf2467f71c678cfc8a6b9ac9241e5e44a01940da8fbb17fc\n",
            "Successfully built pyspark\n",
            "Installing collected packages: pyspark\n",
            "Successfully installed pyspark-3.5.0\n"
          ]
        }
      ],
      "source": [
        "!pip install pyspark"
      ]
    },
    {
      "cell_type": "code",
      "source": [
        "import pyspark\n",
        "from pyspark.sql import SparkSession\n",
        "spark=SparkSession.builder.appName('Fire DF').getOrCreate()"
      ],
      "metadata": {
        "id": "_dgdjXv3er80"
      },
      "execution_count": null,
      "outputs": []
    },
    {
      "cell_type": "code",
      "source": [
        "from pyspark.sql.functions import *\n",
        "from pyspark.sql.types import *"
      ],
      "metadata": {
        "id": "wijLXTO4er6B"
      },
      "execution_count": null,
      "outputs": []
    },
    {
      "cell_type": "code",
      "source": [
        "from google.colab import drive\n",
        "drive.mount('/content/drive/')"
      ],
      "metadata": {
        "colab": {
          "base_uri": "https://localhost:8080/"
        },
        "id": "ks-OFEjJer3M",
        "outputId": "fac2bfaf-3669-47e4-b908-5e4c17212b60"
      },
      "execution_count": null,
      "outputs": [
        {
          "output_type": "stream",
          "name": "stdout",
          "text": [
            "Mounted at /content/drive/\n"
          ]
        }
      ]
    },
    {
      "cell_type": "code",
      "source": [
        "df=spark.read.csv('sf-fire-calls.csv',header=True,inferSchema=True)"
      ],
      "metadata": {
        "id": "fyKN0j0jer0k"
      },
      "execution_count": null,
      "outputs": []
    },
    {
      "cell_type": "code",
      "source": [
        "\n",
        "df.show()"
      ],
      "metadata": {
        "colab": {
          "base_uri": "https://localhost:8080/"
        },
        "id": "0ekn0f2xerxi",
        "outputId": "59bd78e7-ac35-4ddd-e96c-dee177cfda4c"
      },
      "execution_count": null,
      "outputs": [
        {
          "output_type": "stream",
          "name": "stdout",
          "text": [
            "+----------+------+--------------+----------------+----------+----------+--------------------+--------------------+--------------------+----+-------+---------+-----------+----+----------------+--------+-------------+-------+-------------+---------+--------------+--------------------------+----------------------+------------------+--------------------+--------------------+-------------+---------+\n",
            "|CallNumber|UnitID|IncidentNumber|        CallType|  CallDate| WatchDate|CallFinalDisposition|       AvailableDtTm|             Address|City|Zipcode|Battalion|StationArea| Box|OriginalPriority|Priority|FinalPriority|ALSUnit|CallTypeGroup|NumAlarms|      UnitType|UnitSequenceInCallDispatch|FirePreventionDistrict|SupervisorDistrict|        Neighborhood|            Location|        RowID|    Delay|\n",
            "+----------+------+--------------+----------------+----------+----------+--------------------+--------------------+--------------------+----+-------+---------+-----------+----+----------------+--------+-------------+-------+-------------+---------+--------------+--------------------------+----------------------+------------------+--------------------+--------------------+-------------+---------+\n",
            "|  20110016|   T13|       2003235|  Structure Fire|01/11/2002|01/10/2002|               Other|01/11/2002 01:51:...|2000 Block of CAL...|  SF|  94109|      B04|         38|3362|               3|       3|            3|  false|         NULL|        1|         TRUCK|                         2|                     4|                 5|     Pacific Heights|(37.7895840679362...|020110016-T13|     2.95|\n",
            "|  20110022|   M17|       2003241|Medical Incident|01/11/2002|01/10/2002|               Other|01/11/2002 03:01:...|0 Block of SILVER...|  SF|  94124|      B10|         42|6495|               3|       3|            3|   true|         NULL|        1|         MEDIC|                         1|                    10|                10|Bayview Hunters P...|(37.7337623673897...|020110022-M17|      4.7|\n",
            "|  20110023|   M41|       2003242|Medical Incident|01/11/2002|01/10/2002|               Other|01/11/2002 02:39:...|MARKET ST/MCALLIS...|  SF|  94102|      B03|          1|1455|               3|       3|            3|   true|         NULL|        1|         MEDIC|                         2|                     3|                 6|          Tenderloin|(37.7811772186856...|020110023-M41|2.4333334|\n",
            "|  20110032|   E11|       2003250|    Vehicle Fire|01/11/2002|01/10/2002|               Other|01/11/2002 04:16:...|APPLETON AV/MISSI...|  SF|  94110|      B06|         32|5626|               3|       3|            3|  false|         NULL|        1|        ENGINE|                         1|                     6|                 9|      Bernal Heights|(37.7388432849018...|020110032-E11|      1.5|\n",
            "|  20110043|   B04|       2003259|          Alarms|01/11/2002|01/10/2002|               Other|01/11/2002 06:01:...|1400 Block of SUT...|  SF|  94109|      B04|          3|3223|               3|       3|            3|  false|         NULL|        1|         CHIEF|                         2|                     4|                 2|    Western Addition|(37.7872890372638...|020110043-B04|3.4833333|\n",
            "|  20110072|   T08|       2003279|  Structure Fire|01/11/2002|01/11/2002|               Other|01/11/2002 08:03:...|  BEALE ST/FOLSOM ST|  SF|  94105|      B03|         35|2122|               3|       3|            3|  false|         NULL|        1|         TRUCK|                         2|                     3|                 6|Financial Distric...|(37.7886866619654...|020110072-T08|     1.75|\n",
            "|  20110125|   E33|       2003301|          Alarms|01/11/2002|01/11/2002|               Other|01/11/2002 09:46:...|0 Block of FARALL...|  SF|  94112|      B09|         33|8324|               3|       3|            3|  false|         NULL|        1|        ENGINE|                         2|                     9|                11|Oceanview/Merced/...|(37.7140353531157...|020110125-E33|2.7166667|\n",
            "|  20110130|   E36|       2003304|          Alarms|01/11/2002|01/11/2002|               Other|01/11/2002 09:58:...|600 Block of POLK ST|  SF|  94102|      B02|          3|3114|               3|       3|            3|  false|         NULL|        1|        ENGINE|                         1|                     2|                 6|          Tenderloin|(37.7826266328595...|020110130-E36|1.7833333|\n",
            "|  20110197|   E05|       2003343|Medical Incident|01/11/2002|01/11/2002|               Other|01/11/2002 12:06:...|1500 Block of WEB...|  SF|  94115|      B04|          5|3513|               3|       3|            3|  false|         NULL|        1|        ENGINE|                         1|                     4|                 5|           Japantown|(37.784958590666,...|020110197-E05|1.5166667|\n",
            "|  20110215|   E06|       2003348|Medical Incident|01/11/2002|01/11/2002|               Other|01/11/2002 01:08:...|DIAMOND ST/MARKET ST|  SF|  94114|      B05|          6|5415|               3|       3|            3|  false|         NULL|        1|        ENGINE|                         1|                     5|                 8| Castro/Upper Market|(37.7618954753708...|020110215-E06|2.7666667|\n",
            "|  20110274|   M07|       2003381|Medical Incident|01/11/2002|01/11/2002|               Other|01/11/2002 03:31:...|2700 Block of MIS...|  SF|  94110|      B06|         11|5525|               1|       1|            2|   true|         NULL|        1|         MEDIC|                         1|                     6|                 9|             Mission|(37.7530339738059...|020110274-M07|2.1833334|\n",
            "|  20110275|   T15|       2003382|  Structure Fire|01/11/2002|01/11/2002|               Other|01/11/2002 02:59:...|BRUNSWICK ST/GUTT...|  SF|  94112|      B09|         43|6218|               3|       3|            3|  false|         NULL|        1|         TRUCK|                         1|                     9|                11|           Excelsior|(37.7105545807996...|020110275-T15|      2.5|\n",
            "|  20110304|   E03|       2003399|Medical Incident|01/11/2002|01/11/2002|               Other|01/11/2002 04:22:...|1000 Block of SUT...|  SF|  94109|      B04|          3|1557|               3|       3|            3|  false|         NULL|        1|        ENGINE|                         1|                     4|                 3|            Nob Hill|(37.7881263034393...|020110304-E03|2.4166667|\n",
            "|  20110308|   E14|       2003403|Medical Incident|01/11/2002|01/11/2002|               Other|01/11/2002 04:18:...|100 Block of 21ST...|  SF|  94121|      B07|         14|7173|               3|       3|            3|  false|         NULL|        1|        ENGINE|                         1|                     7|                 1|      Outer Richmond|(37.7850084431077...|020110308-E14|     4.95|\n",
            "|  20110313|   B10|       2003408|  Structure Fire|01/11/2002|01/11/2002|               Other|01/11/2002 04:09:...|700 Block of CAPP ST|  SF|  94110|      B06|          7|5472|               3|       3|            3|  false|         NULL|        1|         CHIEF|                         6|                     6|                 9|             Mission|(37.7547064357942...|020110313-B10|1.4166666|\n",
            "|  20110313|    D3|       2003408|  Structure Fire|01/11/2002|01/11/2002|               Other|01/11/2002 04:09:...|700 Block of CAPP ST|  SF|  94110|      B06|          7|5472|               3|       3|            3|  false|         NULL|        1|         CHIEF|                         4|                     6|                 9|             Mission|(37.7547064357942...| 020110313-D3|2.5333333|\n",
            "|  20110313|   E32|       2003408|  Structure Fire|01/11/2002|01/11/2002|               Other|01/11/2002 04:09:...|700 Block of CAPP ST|  SF|  94110|      B06|          7|5472|               3|       3|            3|   true|         NULL|        1|        ENGINE|                         8|                     6|                 9|             Mission|(37.7547064357942...|020110313-E32|1.8833333|\n",
            "|  20110315|   RC2|       2003409|Medical Incident|01/11/2002|01/11/2002|               Other|01/11/2002 04:34:...|200 Block of LAGU...|  SF|  94116|      B08|         20|8635|               3|       3|            3|   true|         NULL|        1|RESCUE CAPTAIN|                         2|                     8|                 7|  West of Twin Peaks|(37.7501117393668...|020110315-RC2|     5.35|\n",
            "|  20110330|   E14|       2003417|Medical Incident|01/11/2002|01/11/2002|               Other|01/11/2002 04:51:...|BALBOA ST/PARK PR...|  SF|  94118|      B07|         31|7145|               3|       3|            3|  false|         NULL|        1|        ENGINE|                         1|                     7|                 1|      Inner Richmond|(37.7768682293368...|020110330-E14|      2.0|\n",
            "|  20110330|   M12|       2003417|Medical Incident|01/11/2002|01/11/2002|               Other|01/11/2002 04:51:...|BALBOA ST/PARK PR...|  SF|  94118|      B07|         31|7145|               3|       3|            3|   true|         NULL|        1|         MEDIC|                         2|                     7|                 1|      Inner Richmond|(37.7768682293368...|020110330-M12|1.8166667|\n",
            "+----------+------+--------------+----------------+----------+----------+--------------------+--------------------+--------------------+----+-------+---------+-----------+----+----------------+--------+-------------+-------+-------------+---------+--------------+--------------------------+----------------------+------------------+--------------------+--------------------+-------------+---------+\n",
            "only showing top 20 rows\n",
            "\n"
          ]
        }
      ]
    },
    {
      "cell_type": "code",
      "source": [
        "df=df.withColumn('Date',to_date(col('callDate'),'dd/mm/yyyy')).drop('callDate')"
      ],
      "metadata": {
        "id": "Rf612Ah4eru9"
      },
      "execution_count": null,
      "outputs": []
    },
    {
      "cell_type": "code",
      "source": [
        "clean_df=df.withColumn('Year',year(col('Date'))).withColumn('Month',month(col('Date'))).withColumn('Week',weekofyear(col('Date')))\n",
        "clean_df.show()"
      ],
      "metadata": {
        "colab": {
          "base_uri": "https://localhost:8080/"
        },
        "id": "-ln4rPm9errv",
        "outputId": "423d6aeb-571f-4189-94fa-cefbf3a1f842"
      },
      "execution_count": null,
      "outputs": [
        {
          "output_type": "stream",
          "name": "stdout",
          "text": [
            "+----------+------+--------------+----------------+----------+--------------------+--------------------+--------------------+----+-------+---------+-----------+----+----------------+--------+-------------+-------+-------------+---------+--------------+--------------------------+----------------------+------------------+--------------------+--------------------+-------------+---------+----------+----+-----+----+\n",
            "|CallNumber|UnitID|IncidentNumber|        CallType| WatchDate|CallFinalDisposition|       AvailableDtTm|             Address|City|Zipcode|Battalion|StationArea| Box|OriginalPriority|Priority|FinalPriority|ALSUnit|CallTypeGroup|NumAlarms|      UnitType|UnitSequenceInCallDispatch|FirePreventionDistrict|SupervisorDistrict|        Neighborhood|            Location|        RowID|    Delay|      Date|Year|Month|Week|\n",
            "+----------+------+--------------+----------------+----------+--------------------+--------------------+--------------------+----+-------+---------+-----------+----+----------------+--------+-------------+-------+-------------+---------+--------------+--------------------------+----------------------+------------------+--------------------+--------------------+-------------+---------+----------+----+-----+----+\n",
            "|  20110016|   T13|       2003235|  Structure Fire|01/10/2002|               Other|01/11/2002 01:51:...|2000 Block of CAL...|  SF|  94109|      B04|         38|3362|               3|       3|            3|  false|         NULL|        1|         TRUCK|                         2|                     4|                 5|     Pacific Heights|(37.7895840679362...|020110016-T13|     2.95|2002-01-01|2002|    1|   1|\n",
            "|  20110022|   M17|       2003241|Medical Incident|01/10/2002|               Other|01/11/2002 03:01:...|0 Block of SILVER...|  SF|  94124|      B10|         42|6495|               3|       3|            3|   true|         NULL|        1|         MEDIC|                         1|                    10|                10|Bayview Hunters P...|(37.7337623673897...|020110022-M17|      4.7|2002-01-01|2002|    1|   1|\n",
            "|  20110023|   M41|       2003242|Medical Incident|01/10/2002|               Other|01/11/2002 02:39:...|MARKET ST/MCALLIS...|  SF|  94102|      B03|          1|1455|               3|       3|            3|   true|         NULL|        1|         MEDIC|                         2|                     3|                 6|          Tenderloin|(37.7811772186856...|020110023-M41|2.4333334|2002-01-01|2002|    1|   1|\n",
            "|  20110032|   E11|       2003250|    Vehicle Fire|01/10/2002|               Other|01/11/2002 04:16:...|APPLETON AV/MISSI...|  SF|  94110|      B06|         32|5626|               3|       3|            3|  false|         NULL|        1|        ENGINE|                         1|                     6|                 9|      Bernal Heights|(37.7388432849018...|020110032-E11|      1.5|2002-01-01|2002|    1|   1|\n",
            "|  20110043|   B04|       2003259|          Alarms|01/10/2002|               Other|01/11/2002 06:01:...|1400 Block of SUT...|  SF|  94109|      B04|          3|3223|               3|       3|            3|  false|         NULL|        1|         CHIEF|                         2|                     4|                 2|    Western Addition|(37.7872890372638...|020110043-B04|3.4833333|2002-01-01|2002|    1|   1|\n",
            "|  20110072|   T08|       2003279|  Structure Fire|01/11/2002|               Other|01/11/2002 08:03:...|  BEALE ST/FOLSOM ST|  SF|  94105|      B03|         35|2122|               3|       3|            3|  false|         NULL|        1|         TRUCK|                         2|                     3|                 6|Financial Distric...|(37.7886866619654...|020110072-T08|     1.75|2002-01-01|2002|    1|   1|\n",
            "|  20110125|   E33|       2003301|          Alarms|01/11/2002|               Other|01/11/2002 09:46:...|0 Block of FARALL...|  SF|  94112|      B09|         33|8324|               3|       3|            3|  false|         NULL|        1|        ENGINE|                         2|                     9|                11|Oceanview/Merced/...|(37.7140353531157...|020110125-E33|2.7166667|2002-01-01|2002|    1|   1|\n",
            "|  20110130|   E36|       2003304|          Alarms|01/11/2002|               Other|01/11/2002 09:58:...|600 Block of POLK ST|  SF|  94102|      B02|          3|3114|               3|       3|            3|  false|         NULL|        1|        ENGINE|                         1|                     2|                 6|          Tenderloin|(37.7826266328595...|020110130-E36|1.7833333|2002-01-01|2002|    1|   1|\n",
            "|  20110197|   E05|       2003343|Medical Incident|01/11/2002|               Other|01/11/2002 12:06:...|1500 Block of WEB...|  SF|  94115|      B04|          5|3513|               3|       3|            3|  false|         NULL|        1|        ENGINE|                         1|                     4|                 5|           Japantown|(37.784958590666,...|020110197-E05|1.5166667|2002-01-01|2002|    1|   1|\n",
            "|  20110215|   E06|       2003348|Medical Incident|01/11/2002|               Other|01/11/2002 01:08:...|DIAMOND ST/MARKET ST|  SF|  94114|      B05|          6|5415|               3|       3|            3|  false|         NULL|        1|        ENGINE|                         1|                     5|                 8| Castro/Upper Market|(37.7618954753708...|020110215-E06|2.7666667|2002-01-01|2002|    1|   1|\n",
            "|  20110274|   M07|       2003381|Medical Incident|01/11/2002|               Other|01/11/2002 03:31:...|2700 Block of MIS...|  SF|  94110|      B06|         11|5525|               1|       1|            2|   true|         NULL|        1|         MEDIC|                         1|                     6|                 9|             Mission|(37.7530339738059...|020110274-M07|2.1833334|2002-01-01|2002|    1|   1|\n",
            "|  20110275|   T15|       2003382|  Structure Fire|01/11/2002|               Other|01/11/2002 02:59:...|BRUNSWICK ST/GUTT...|  SF|  94112|      B09|         43|6218|               3|       3|            3|  false|         NULL|        1|         TRUCK|                         1|                     9|                11|           Excelsior|(37.7105545807996...|020110275-T15|      2.5|2002-01-01|2002|    1|   1|\n",
            "|  20110304|   E03|       2003399|Medical Incident|01/11/2002|               Other|01/11/2002 04:22:...|1000 Block of SUT...|  SF|  94109|      B04|          3|1557|               3|       3|            3|  false|         NULL|        1|        ENGINE|                         1|                     4|                 3|            Nob Hill|(37.7881263034393...|020110304-E03|2.4166667|2002-01-01|2002|    1|   1|\n",
            "|  20110308|   E14|       2003403|Medical Incident|01/11/2002|               Other|01/11/2002 04:18:...|100 Block of 21ST...|  SF|  94121|      B07|         14|7173|               3|       3|            3|  false|         NULL|        1|        ENGINE|                         1|                     7|                 1|      Outer Richmond|(37.7850084431077...|020110308-E14|     4.95|2002-01-01|2002|    1|   1|\n",
            "|  20110313|   B10|       2003408|  Structure Fire|01/11/2002|               Other|01/11/2002 04:09:...|700 Block of CAPP ST|  SF|  94110|      B06|          7|5472|               3|       3|            3|  false|         NULL|        1|         CHIEF|                         6|                     6|                 9|             Mission|(37.7547064357942...|020110313-B10|1.4166666|2002-01-01|2002|    1|   1|\n",
            "|  20110313|    D3|       2003408|  Structure Fire|01/11/2002|               Other|01/11/2002 04:09:...|700 Block of CAPP ST|  SF|  94110|      B06|          7|5472|               3|       3|            3|  false|         NULL|        1|         CHIEF|                         4|                     6|                 9|             Mission|(37.7547064357942...| 020110313-D3|2.5333333|2002-01-01|2002|    1|   1|\n",
            "|  20110313|   E32|       2003408|  Structure Fire|01/11/2002|               Other|01/11/2002 04:09:...|700 Block of CAPP ST|  SF|  94110|      B06|          7|5472|               3|       3|            3|   true|         NULL|        1|        ENGINE|                         8|                     6|                 9|             Mission|(37.7547064357942...|020110313-E32|1.8833333|2002-01-01|2002|    1|   1|\n",
            "|  20110315|   RC2|       2003409|Medical Incident|01/11/2002|               Other|01/11/2002 04:34:...|200 Block of LAGU...|  SF|  94116|      B08|         20|8635|               3|       3|            3|   true|         NULL|        1|RESCUE CAPTAIN|                         2|                     8|                 7|  West of Twin Peaks|(37.7501117393668...|020110315-RC2|     5.35|2002-01-01|2002|    1|   1|\n",
            "|  20110330|   E14|       2003417|Medical Incident|01/11/2002|               Other|01/11/2002 04:51:...|BALBOA ST/PARK PR...|  SF|  94118|      B07|         31|7145|               3|       3|            3|  false|         NULL|        1|        ENGINE|                         1|                     7|                 1|      Inner Richmond|(37.7768682293368...|020110330-E14|      2.0|2002-01-01|2002|    1|   1|\n",
            "|  20110330|   M12|       2003417|Medical Incident|01/11/2002|               Other|01/11/2002 04:51:...|BALBOA ST/PARK PR...|  SF|  94118|      B07|         31|7145|               3|       3|            3|   true|         NULL|        1|         MEDIC|                         2|                     7|                 1|      Inner Richmond|(37.7768682293368...|020110330-M12|1.8166667|2002-01-01|2002|    1|   1|\n",
            "+----------+------+--------------+----------------+----------+--------------------+--------------------+--------------------+----+-------+---------+-----------+----+----------------+--------+-------------+-------+-------------+---------+--------------+--------------------------+----------------------+------------------+--------------------+--------------------+-------------+---------+----------+----+-----+----+\n",
            "only showing top 20 rows\n",
            "\n"
          ]
        }
      ]
    },
    {
      "cell_type": "code",
      "source": [
        "df.count()"
      ],
      "metadata": {
        "colab": {
          "base_uri": "https://localhost:8080/"
        },
        "id": "QrtnHD6veroh",
        "outputId": "60bbe2d8-5384-4427-ec2d-e6acbb55607d"
      },
      "execution_count": null,
      "outputs": [
        {
          "output_type": "execute_result",
          "data": {
            "text/plain": [
              "8782"
            ]
          },
          "metadata": {},
          "execution_count": 11
        }
      ]
    },
    {
      "cell_type": "code",
      "source": [
        "clean_df.select('Year').groupBy('Year').count().orderBy('Year',ascending=True).show()"
      ],
      "metadata": {
        "colab": {
          "base_uri": "https://localhost:8080/"
        },
        "id": "kxqBA4yherl0",
        "outputId": "5e7d4319-6f9f-49b6-8978-4a6627a58e3d"
      },
      "execution_count": null,
      "outputs": [
        {
          "output_type": "stream",
          "name": "stdout",
          "text": [
            "+----+-----+\n",
            "|Year|count|\n",
            "+----+-----+\n",
            "|2002| 7855|\n",
            "|2003|  927|\n",
            "+----+-----+\n",
            "\n"
          ]
        }
      ]
    },
    {
      "cell_type": "code",
      "source": [
        "clean_df.select('callType').where(col('Year')=='2018').distinct().show(truncate=False)"
      ],
      "metadata": {
        "colab": {
          "base_uri": "https://localhost:8080/"
        },
        "id": "6t8Y9slkerjN",
        "outputId": "dcbe3be1-8703-4eb3-da4d-1078afd71adc"
      },
      "execution_count": null,
      "outputs": [
        {
          "output_type": "stream",
          "name": "stdout",
          "text": [
            "+--------+\n",
            "|callType|\n",
            "+--------+\n",
            "+--------+\n",
            "\n"
          ]
        }
      ]
    },
    {
      "cell_type": "code",
      "source": [
        "\n",
        "#Which week in the year in 2018 had the most fire calls?\n",
        "fire_calls_2018 = clean_df.filter(col('Year') == 2018)\n",
        "max_week = fire_calls_2018.groupBy('Week').count()\n",
        "max_count = max_week.agg({'count': 'max'}).collect()[0][0]\n",
        "result = max_week.filter(col('count') == max_count).select('Week')\n",
        "result.show()"
      ],
      "metadata": {
        "colab": {
          "base_uri": "https://localhost:8080/"
        },
        "id": "Vhrnkh_VergU",
        "outputId": "21ba3061-c698-4009-a243-1bce075ba68b"
      },
      "execution_count": null,
      "outputs": [
        {
          "output_type": "stream",
          "name": "stdout",
          "text": [
            "+----+\n",
            "|Week|\n",
            "+----+\n",
            "+----+\n",
            "\n"
          ]
        }
      ]
    },
    {
      "cell_type": "code",
      "source": [
        "clean_df.groupBy('Year','Month').count().show()"
      ],
      "metadata": {
        "colab": {
          "base_uri": "https://localhost:8080/"
        },
        "id": "0TsYcijgerdB",
        "outputId": "b1f30e2f-cb29-4763-e38f-5af22a265874"
      },
      "execution_count": null,
      "outputs": [
        {
          "output_type": "stream",
          "name": "stdout",
          "text": [
            "+----+-----+-----+\n",
            "|Year|Month|count|\n",
            "+----+-----+-----+\n",
            "|2003|    1|  927|\n",
            "|2002|    1| 7855|\n",
            "+----+-----+-----+\n",
            "\n"
          ]
        }
      ]
    },
    {
      "cell_type": "code",
      "source": [
        "selected_year = 2018\n",
        "filtered_data = clean_df.filter(col('Year') == selected_year)\n",
        "monthly_report = filtered_data.groupBy('Month', 'CallType').count()\n",
        "monthly_report.show()"
      ],
      "metadata": {
        "colab": {
          "base_uri": "https://localhost:8080/"
        },
        "id": "LC87_SzqeraK",
        "outputId": "f517bcb1-18b4-448a-b6a6-93d0c7030bb2"
      },
      "execution_count": null,
      "outputs": [
        {
          "output_type": "stream",
          "name": "stdout",
          "text": [
            "+-----+--------+-----+\n",
            "|Month|CallType|count|\n",
            "+-----+--------+-----+\n",
            "+-----+--------+-----+\n",
            "\n"
          ]
        }
      ]
    },
    {
      "cell_type": "code",
      "source": [
        "#consider month and if particular month then estimate the season\n",
        "#UDF->user defined function to register all the method calls\n",
        "def mapSeason(data):\n",
        "  if 2 < data < 6:\n",
        "    return 'Spring'\n",
        "  elif 5 < data <9:\n",
        "    return 'Summer'\n",
        "  elif 8 < data < 12:\n",
        "    return 'Autumn'\n",
        "  else:\n",
        "    return 'Winter'\n",
        "seasonUDF=udf(mapSeason,StringType())\n",
        "clean_df=clean_df.withColumn('Season',seasonUDF(col('Month')))\n",
        "clean_df.show()\n"
      ],
      "metadata": {
        "colab": {
          "base_uri": "https://localhost:8080/"
        },
        "id": "RCyelXwKerXI",
        "outputId": "229409c9-6ab5-471a-9b28-fe2ca1048ff9"
      },
      "execution_count": null,
      "outputs": [
        {
          "output_type": "stream",
          "name": "stdout",
          "text": [
            "+----------+------+--------------+----------------+----------+--------------------+--------------------+--------------------+----+-------+---------+-----------+----+----------------+--------+-------------+-------+-------------+---------+--------------+--------------------------+----------------------+------------------+--------------------+--------------------+-------------+---------+----------+----+-----+----+------+\n",
            "|CallNumber|UnitID|IncidentNumber|        CallType| WatchDate|CallFinalDisposition|       AvailableDtTm|             Address|City|Zipcode|Battalion|StationArea| Box|OriginalPriority|Priority|FinalPriority|ALSUnit|CallTypeGroup|NumAlarms|      UnitType|UnitSequenceInCallDispatch|FirePreventionDistrict|SupervisorDistrict|        Neighborhood|            Location|        RowID|    Delay|      Date|Year|Month|Week|Season|\n",
            "+----------+------+--------------+----------------+----------+--------------------+--------------------+--------------------+----+-------+---------+-----------+----+----------------+--------+-------------+-------+-------------+---------+--------------+--------------------------+----------------------+------------------+--------------------+--------------------+-------------+---------+----------+----+-----+----+------+\n",
            "|  20110016|   T13|       2003235|  Structure Fire|01/10/2002|               Other|01/11/2002 01:51:...|2000 Block of CAL...|  SF|  94109|      B04|         38|3362|               3|       3|            3|  false|         NULL|        1|         TRUCK|                         2|                     4|                 5|     Pacific Heights|(37.7895840679362...|020110016-T13|     2.95|2002-01-01|2002|    1|   1|Winter|\n",
            "|  20110022|   M17|       2003241|Medical Incident|01/10/2002|               Other|01/11/2002 03:01:...|0 Block of SILVER...|  SF|  94124|      B10|         42|6495|               3|       3|            3|   true|         NULL|        1|         MEDIC|                         1|                    10|                10|Bayview Hunters P...|(37.7337623673897...|020110022-M17|      4.7|2002-01-01|2002|    1|   1|Winter|\n",
            "|  20110023|   M41|       2003242|Medical Incident|01/10/2002|               Other|01/11/2002 02:39:...|MARKET ST/MCALLIS...|  SF|  94102|      B03|          1|1455|               3|       3|            3|   true|         NULL|        1|         MEDIC|                         2|                     3|                 6|          Tenderloin|(37.7811772186856...|020110023-M41|2.4333334|2002-01-01|2002|    1|   1|Winter|\n",
            "|  20110032|   E11|       2003250|    Vehicle Fire|01/10/2002|               Other|01/11/2002 04:16:...|APPLETON AV/MISSI...|  SF|  94110|      B06|         32|5626|               3|       3|            3|  false|         NULL|        1|        ENGINE|                         1|                     6|                 9|      Bernal Heights|(37.7388432849018...|020110032-E11|      1.5|2002-01-01|2002|    1|   1|Winter|\n",
            "|  20110043|   B04|       2003259|          Alarms|01/10/2002|               Other|01/11/2002 06:01:...|1400 Block of SUT...|  SF|  94109|      B04|          3|3223|               3|       3|            3|  false|         NULL|        1|         CHIEF|                         2|                     4|                 2|    Western Addition|(37.7872890372638...|020110043-B04|3.4833333|2002-01-01|2002|    1|   1|Winter|\n",
            "|  20110072|   T08|       2003279|  Structure Fire|01/11/2002|               Other|01/11/2002 08:03:...|  BEALE ST/FOLSOM ST|  SF|  94105|      B03|         35|2122|               3|       3|            3|  false|         NULL|        1|         TRUCK|                         2|                     3|                 6|Financial Distric...|(37.7886866619654...|020110072-T08|     1.75|2002-01-01|2002|    1|   1|Winter|\n",
            "|  20110125|   E33|       2003301|          Alarms|01/11/2002|               Other|01/11/2002 09:46:...|0 Block of FARALL...|  SF|  94112|      B09|         33|8324|               3|       3|            3|  false|         NULL|        1|        ENGINE|                         2|                     9|                11|Oceanview/Merced/...|(37.7140353531157...|020110125-E33|2.7166667|2002-01-01|2002|    1|   1|Winter|\n",
            "|  20110130|   E36|       2003304|          Alarms|01/11/2002|               Other|01/11/2002 09:58:...|600 Block of POLK ST|  SF|  94102|      B02|          3|3114|               3|       3|            3|  false|         NULL|        1|        ENGINE|                         1|                     2|                 6|          Tenderloin|(37.7826266328595...|020110130-E36|1.7833333|2002-01-01|2002|    1|   1|Winter|\n",
            "|  20110197|   E05|       2003343|Medical Incident|01/11/2002|               Other|01/11/2002 12:06:...|1500 Block of WEB...|  SF|  94115|      B04|          5|3513|               3|       3|            3|  false|         NULL|        1|        ENGINE|                         1|                     4|                 5|           Japantown|(37.784958590666,...|020110197-E05|1.5166667|2002-01-01|2002|    1|   1|Winter|\n",
            "|  20110215|   E06|       2003348|Medical Incident|01/11/2002|               Other|01/11/2002 01:08:...|DIAMOND ST/MARKET ST|  SF|  94114|      B05|          6|5415|               3|       3|            3|  false|         NULL|        1|        ENGINE|                         1|                     5|                 8| Castro/Upper Market|(37.7618954753708...|020110215-E06|2.7666667|2002-01-01|2002|    1|   1|Winter|\n",
            "|  20110274|   M07|       2003381|Medical Incident|01/11/2002|               Other|01/11/2002 03:31:...|2700 Block of MIS...|  SF|  94110|      B06|         11|5525|               1|       1|            2|   true|         NULL|        1|         MEDIC|                         1|                     6|                 9|             Mission|(37.7530339738059...|020110274-M07|2.1833334|2002-01-01|2002|    1|   1|Winter|\n",
            "|  20110275|   T15|       2003382|  Structure Fire|01/11/2002|               Other|01/11/2002 02:59:...|BRUNSWICK ST/GUTT...|  SF|  94112|      B09|         43|6218|               3|       3|            3|  false|         NULL|        1|         TRUCK|                         1|                     9|                11|           Excelsior|(37.7105545807996...|020110275-T15|      2.5|2002-01-01|2002|    1|   1|Winter|\n",
            "|  20110304|   E03|       2003399|Medical Incident|01/11/2002|               Other|01/11/2002 04:22:...|1000 Block of SUT...|  SF|  94109|      B04|          3|1557|               3|       3|            3|  false|         NULL|        1|        ENGINE|                         1|                     4|                 3|            Nob Hill|(37.7881263034393...|020110304-E03|2.4166667|2002-01-01|2002|    1|   1|Winter|\n",
            "|  20110308|   E14|       2003403|Medical Incident|01/11/2002|               Other|01/11/2002 04:18:...|100 Block of 21ST...|  SF|  94121|      B07|         14|7173|               3|       3|            3|  false|         NULL|        1|        ENGINE|                         1|                     7|                 1|      Outer Richmond|(37.7850084431077...|020110308-E14|     4.95|2002-01-01|2002|    1|   1|Winter|\n",
            "|  20110313|   B10|       2003408|  Structure Fire|01/11/2002|               Other|01/11/2002 04:09:...|700 Block of CAPP ST|  SF|  94110|      B06|          7|5472|               3|       3|            3|  false|         NULL|        1|         CHIEF|                         6|                     6|                 9|             Mission|(37.7547064357942...|020110313-B10|1.4166666|2002-01-01|2002|    1|   1|Winter|\n",
            "|  20110313|    D3|       2003408|  Structure Fire|01/11/2002|               Other|01/11/2002 04:09:...|700 Block of CAPP ST|  SF|  94110|      B06|          7|5472|               3|       3|            3|  false|         NULL|        1|         CHIEF|                         4|                     6|                 9|             Mission|(37.7547064357942...| 020110313-D3|2.5333333|2002-01-01|2002|    1|   1|Winter|\n",
            "|  20110313|   E32|       2003408|  Structure Fire|01/11/2002|               Other|01/11/2002 04:09:...|700 Block of CAPP ST|  SF|  94110|      B06|          7|5472|               3|       3|            3|   true|         NULL|        1|        ENGINE|                         8|                     6|                 9|             Mission|(37.7547064357942...|020110313-E32|1.8833333|2002-01-01|2002|    1|   1|Winter|\n",
            "|  20110315|   RC2|       2003409|Medical Incident|01/11/2002|               Other|01/11/2002 04:34:...|200 Block of LAGU...|  SF|  94116|      B08|         20|8635|               3|       3|            3|   true|         NULL|        1|RESCUE CAPTAIN|                         2|                     8|                 7|  West of Twin Peaks|(37.7501117393668...|020110315-RC2|     5.35|2002-01-01|2002|    1|   1|Winter|\n",
            "|  20110330|   E14|       2003417|Medical Incident|01/11/2002|               Other|01/11/2002 04:51:...|BALBOA ST/PARK PR...|  SF|  94118|      B07|         31|7145|               3|       3|            3|  false|         NULL|        1|        ENGINE|                         1|                     7|                 1|      Inner Richmond|(37.7768682293368...|020110330-E14|      2.0|2002-01-01|2002|    1|   1|Winter|\n",
            "|  20110330|   M12|       2003417|Medical Incident|01/11/2002|               Other|01/11/2002 04:51:...|BALBOA ST/PARK PR...|  SF|  94118|      B07|         31|7145|               3|       3|            3|   true|         NULL|        1|         MEDIC|                         2|                     7|                 1|      Inner Richmond|(37.7768682293368...|020110330-M12|1.8166667|2002-01-01|2002|    1|   1|Winter|\n",
            "+----------+------+--------------+----------------+----------+--------------------+--------------------+--------------------+----+-------+---------+-----------+----+----------------+--------+-------------+-------+-------------+---------+--------------+--------------------------+----------------------+------------------+--------------------+--------------------+-------------+---------+----------+----+-----+----+------+\n",
            "only showing top 20 rows\n",
            "\n"
          ]
        }
      ]
    },
    {
      "cell_type": "code",
      "source": [
        "from pyspark.sql.window import Window\n",
        "from pyspark.sql.functions import rank\n",
        "filtered_data = clean_df.filter(col('Year') == 2018)\n",
        "window_spec = Window.partitionBy('Season').orderBy(col('count').desc())\n",
        "ranked_data = filtered_data.groupBy('Season', 'CallType').count().withColumn(\"rank\", rank().over(window_spec))\n",
        "top_five_in_each_season = ranked_data.filter(col('rank') <= 5)\n",
        "top_five_in_each_season.show()"
      ],
      "metadata": {
        "colab": {
          "base_uri": "https://localhost:8080/"
        },
        "id": "Qs9JucMrerUi",
        "outputId": "51a9e438-e570-4ec9-c210-76cffb569542"
      },
      "execution_count": null,
      "outputs": [
        {
          "output_type": "stream",
          "name": "stdout",
          "text": [
            "+------+--------+-----+----+\n",
            "|Season|CallType|count|rank|\n",
            "+------+--------+-----+----+\n",
            "+------+--------+-----+----+\n",
            "\n"
          ]
        }
      ]
    },
    {
      "cell_type": "code",
      "source": [
        "from pyspark.sql import functions as F\n",
        "import matplotlib.pyplot as plt\n",
        "#Whether fire type calls are seasonal?\n",
        "\n",
        "monthly_call_counts = clean_df.groupBy('Year', 'Season').count().orderBy('Year', 'Season')\n",
        "monthly_call_counts_pd = monthly_call_counts.toPandas()\n",
        "plt.figure(figsize=(12, 6))\n",
        "plt.plot(monthly_call_counts_pd['Year'].astype(str) + '-' + monthly_call_counts_pd['Season'].astype(str), monthly_call_counts_pd['count'], marker='o')\n",
        "plt.title('Monthly Fire Call Counts Over Time')\n",
        "plt.xlabel('Year-Season')\n",
        "plt.ylabel('Call Count')\n",
        "plt.xticks(rotation=45)\n",
        "plt.grid()\n",
        "plt.show()"
      ],
      "metadata": {
        "colab": {
          "base_uri": "https://localhost:8080/",
          "height": 415
        },
        "id": "6Pbw4_VGerR4",
        "outputId": "425e8e3a-38aa-4914-ef69-de04ba786b39"
      },
      "execution_count": null,
      "outputs": [
        {
          "output_type": "display_data",
          "data": {
            "text/plain": [
              "<Figure size 1200x600 with 1 Axes>"
            ],
            "image/png": "[encoded data removed]"
          },
          "metadata": {}
        }
      ]
    },
    {
      "cell_type": "code",
      "source": [
        "filtered_data = clean_df.filter(col('Year') == 2018)\n",
        "monthly_call_counts = filtered_data.groupBy('Month').count()\n",
        "max_calls = monthly_call_counts.agg({\"count\": \"max\"}).collect()[0][0]\n",
        "top_months = monthly_call_counts.filter(col(\"count\") == max_calls)\n",
        "top_months.show()"
      ],
      "metadata": {
        "colab": {
          "base_uri": "https://localhost:8080/"
        },
        "id": "oBe5ACtSerPx",
        "outputId": "f5438839-ebf8-4a19-ed98-8cfc0a2477a9"
      },
      "execution_count": null,
      "outputs": [
        {
          "output_type": "stream",
          "name": "stdout",
          "text": [
            "+-----+-----+\n",
            "|Month|count|\n",
            "+-----+-----+\n",
            "+-----+-----+\n",
            "\n"
          ]
        }
      ]
    },
    {
      "cell_type": "code",
      "source": [
        "yearly_call_counts = clean_df.groupBy('Year', 'CallType').count()\n",
        "major_call_type_by_year = yearly_call_counts.groupBy('Year').agg(max('count').alias('MaxCount'))\n",
        "major_call_type_details = yearly_call_counts.join(\n",
        "    major_call_type_by_year,\n",
        "    (yearly_call_counts['Year'] == major_call_type_by_year['Year']) & (yearly_call_counts['count'] == major_call_type_by_year['MaxCount']),\n",
        "    'inner'\n",
        ")\n",
        "result = major_call_type_details.select(col('Year'), 'CallType', 'MaxCount')\n",
        "result.show()"
      ],
      "metadata": {
        "id": "jvfmsfGqerKA",
        "colab": {
          "base_uri": "https://localhost:8080/",
          "height": 140
        },
        "outputId": "52f1e44c-0c12-4dd9-a998-45376043ad6a"
      },
      "execution_count": null,
      "outputs": [
        {
          "output_type": "error",
          "ename": "SyntaxError",
          "evalue": "ignored",
          "traceback": [
            "\u001b[0;36m  File \u001b[0;32m\"<ipython-input-25-e186de233372>\"\u001b[0;36m, line \u001b[0;32m8\u001b[0m\n\u001b[0;31m    result = major_call_type_details.select(col'Year', 'CallType', 'MaxCount')\u001b[0m\n\u001b[0m                                               ^\u001b[0m\n\u001b[0;31mSyntaxError\u001b[0m\u001b[0;31m:\u001b[0m invalid syntax\n"
          ]
        }
      ]
    },
    {
      "cell_type": "code",
      "source": [
        "average_delay_by_call_type = clean_df.groupBy('CallType').agg(avg('Delay').alias('AverageDelay'))\n",
        "average_delay_by_call_type.show()"
      ],
      "metadata": {
        "colab": {
          "base_uri": "https://localhost:8080/"
        },
        "id": "qJlrWGtgerHJ",
        "outputId": "75e97c03-dfeb-4afa-b328-cdb08e96f1d1"
      },
      "execution_count": null,
      "outputs": [
        {
          "output_type": "stream",
          "name": "stdout",
          "text": [
            "+--------------------+------------------+\n",
            "|            CallType|      AverageDelay|\n",
            "+--------------------+------------------+\n",
            "|Elevator / Escala...| 3.800877184210526|\n",
            "|  Aircraft Emergency| 5.650000016666667|\n",
            "|              Alarms| 2.839064202002179|\n",
            "|Odor (Strange / U...|3.5357723643902434|\n",
            "|Citizen Assist / ...| 4.509050760264899|\n",
            "|              HazMat|       5.333333425|\n",
            "|           Explosion|         3.1333334|\n",
            "|           Oil Spill|       4.425000075|\n",
            "|        Vehicle Fire|3.2021929526315795|\n",
            "|  Suspicious Package|          9.483334|\n",
            "|               Other| 4.934061903825139|\n",
            "|        Outside Fire| 2.633500002999999|\n",
            "|   Traffic Collision| 4.565079302222223|\n",
            "|Gas Leak (Natural...|3.6244444600000003|\n",
            "|        Water Rescue| 3.748550730434783|\n",
            "|   Electrical Hazard|7.4644927565217385|\n",
            "|      Structure Fire| 3.117832842483973|\n",
            "|Industrial Accidents|3.2666667000000005|\n",
            "|    Medical Incident|3.7694193558672797|\n",
            "|          Fuel Spill| 4.051851844444444|\n",
            "+--------------------+------------------+\n",
            "only showing top 20 rows\n",
            "\n"
          ]
        }
      ]
    },
    {
      "cell_type": "code",
      "source": [
        "#Find which calltype has maximum average delay time.\n",
        "average_delay_by_call_type = clean_df.groupBy('CallType').agg(avg('Delay').alias('AverageDelay'))\n",
        "max_average_delay_call_type = average_delay_by_call_type.orderBy(col('AverageDelay').desc()).first()\n",
        "print(\"Call Type with Maximum Average Delay:\")\n",
        "print(\"Call Type:\", max_average_delay_call_type['CallType'])\n",
        "print(\"Average Delay:\", max_average_delay_call_type['AverageDelay'])"
      ],
      "metadata": {
        "colab": {
          "base_uri": "https://localhost:8080/"
        },
        "id": "CWuS_ee-erEI",
        "outputId": "56713c13-9f6e-49dd-fe1f-5bdbe0ca5791"
      },
      "execution_count": null,
      "outputs": [
        {
          "output_type": "stream",
          "name": "stdout",
          "text": [
            "Call Type with Maximum Average Delay:\n",
            "Call Type: Suspicious Package\n",
            "Average Delay: 9.483334\n"
          ]
        }
      ]
    },
    {
      "cell_type": "code",
      "source": [
        "\n",
        "#Which neighborhood in San Francisco generated the most fire calls in 2018\n",
        "neighborhood_call_counts = clean_df.filter((col('Year') == 2018) & (col('Neighborhood').isNotNull())) \\\n",
        "    .groupBy('Neighborhood').count()\n",
        "max_calls_neighborhood = neighborhood_call_counts.orderBy(col('count').desc()).first()\n",
        "print(\"Neighborhood:\", max_calls_neighborhood['Neighborhood'])\n",
        "print(\"Number of Fire Calls:\", max_calls_neighborhood['count'])\n"
      ],
      "metadata": {
        "colab": {
          "base_uri": "https://localhost:8080/",
          "height": 262
        },
        "id": "fmzXKK14ikPj",
        "outputId": "375b8b71-a100-4e05-f3d1-47b1999fad37"
      },
      "execution_count": null,
      "outputs": [
        {
          "output_type": "error",
          "ename": "TypeError",
          "evalue": "ignored",
          "traceback": [
            "\u001b[0;31m---------------------------------------------------------------------------\u001b[0m",
            "\u001b[0;31mTypeError\u001b[0m                                 Traceback (most recent call last)",
            "\u001b[0;32m<ipython-input-32-7328d65c424e>\u001b[0m in \u001b[0;36m<cell line: 5>\u001b[0;34m()\u001b[0m\n\u001b[1;32m      3\u001b[0m     \u001b[0;34m.\u001b[0m\u001b[0mgroupBy\u001b[0m\u001b[0;34m(\u001b[0m\u001b[0;34m'Neighborhood'\u001b[0m\u001b[0;34m)\u001b[0m\u001b[0;34m.\u001b[0m\u001b[0mcount\u001b[0m\u001b[0;34m(\u001b[0m\u001b[0;34m)\u001b[0m\u001b[0;34m\u001b[0m\u001b[0;34m\u001b[0m\u001b[0m\n\u001b[1;32m      4\u001b[0m \u001b[0mmax_calls_neighborhood\u001b[0m \u001b[0;34m=\u001b[0m \u001b[0mneighborhood_call_counts\u001b[0m\u001b[0;34m.\u001b[0m\u001b[0morderBy\u001b[0m\u001b[0;34m(\u001b[0m\u001b[0mcol\u001b[0m\u001b[0;34m(\u001b[0m\u001b[0;34m'count'\u001b[0m\u001b[0;34m)\u001b[0m\u001b[0;34m.\u001b[0m\u001b[0mdesc\u001b[0m\u001b[0;34m(\u001b[0m\u001b[0;34m)\u001b[0m\u001b[0;34m)\u001b[0m\u001b[0;34m.\u001b[0m\u001b[0mfirst\u001b[0m\u001b[0;34m(\u001b[0m\u001b[0;34m)\u001b[0m\u001b[0;34m\u001b[0m\u001b[0;34m\u001b[0m\u001b[0m\n\u001b[0;32m----> 5\u001b[0;31m \u001b[0mprint\u001b[0m\u001b[0;34m(\u001b[0m\u001b[0;34m\"Neighborhood:\"\u001b[0m\u001b[0;34m,\u001b[0m \u001b[0mmax_calls_neighborhood\u001b[0m\u001b[0;34m[\u001b[0m\u001b[0;34m'Neighborhood'\u001b[0m\u001b[0;34m]\u001b[0m\u001b[0;34m)\u001b[0m\u001b[0;34m\u001b[0m\u001b[0;34m\u001b[0m\u001b[0m\n\u001b[0m\u001b[1;32m      6\u001b[0m \u001b[0mprint\u001b[0m\u001b[0;34m(\u001b[0m\u001b[0;34m\"Number of Fire Calls:\"\u001b[0m\u001b[0;34m,\u001b[0m \u001b[0mmax_calls_neighborhood\u001b[0m\u001b[0;34m[\u001b[0m\u001b[0;34m'count'\u001b[0m\u001b[0;34m]\u001b[0m\u001b[0;34m)\u001b[0m\u001b[0;34m\u001b[0m\u001b[0;34m\u001b[0m\u001b[0m\n\u001b[1;32m      7\u001b[0m \u001b[0;34m\u001b[0m\u001b[0m\n",
            "\u001b[0;31mTypeError\u001b[0m: 'NoneType' object is not subscriptable"
          ]
        }
      ]
    },
    {
      "cell_type": "code",
      "source": [
        "\n",
        "#Which neighborhoods had the worst response times to fire calls in 2018?\n",
        "filtered_data = clean_df.filter((col('Year') == 2018) & (col('Delay').isNotNull()))\n",
        "neighborhood_response_time = filtered_data.groupBy('Neighborhood').agg(avg('Delay').alias('AverageResponseTime'))\n",
        "worst_response_time_neighborhoods = neighborhood_response_time.orderBy(col('AverageResponseTime').desc())\n",
        "worst_response_time_neighborhoods.show()"
      ],
      "metadata": {
        "colab": {
          "base_uri": "https://localhost:8080/"
        },
        "id": "fkr1RpY6ikNF",
        "outputId": "1ce3f624-a2d4-4339-eaca-8a789451d134"
      },
      "execution_count": null,
      "outputs": [
        {
          "output_type": "stream",
          "name": "stdout",
          "text": [
            "+------------+-------------------+\n",
            "|Neighborhood|AverageResponseTime|\n",
            "+------------+-------------------+\n",
            "+------------+-------------------+\n",
            "\n"
          ]
        }
      ]
    },
    {
      "cell_type": "code",
      "source": [
        "#Find out calltype whose average response delay time is maximum, increases, decreases or has no relation over years\n",
        "average_delay_by_year_calltype = clean_df.groupBy('Year', 'CallType').agg(avg('Delay').alias('AverageDelay'))\n",
        "pivoted_data = average_delay_by_year_calltype.groupBy('Year').pivot('CallType').agg(avg('AverageDelay')).na.fill(0)\n",
        "data = pivoted_data.select('Year', 'CallType').orderBy('Year').toPandas()\n",
        "plt.plot(data['Year'], data['CallType'])\n",
        "plt.title('Trend of Average Delay for TypeA Over Years')\n",
        "plt.xlabel('Year')\n",
        "plt.ylabel('Average Delay')\n",
        "plt.show()"
      ],
      "metadata": {
        "id": "OR4K-GYGikJn",
        "colab": {
          "base_uri": "https://localhost:8080/",
          "height": 1000
        },
        "outputId": "21df22e0-daaa-4094-e511-b443828f34ff"
      },
      "execution_count": null,
      "outputs": [
        {
          "output_type": "error",
          "ename": "AnalysisException",
          "evalue": "ignored",
          "traceback": [
            "\u001b[0;31m---------------------------------------------------------------------------\u001b[0m",
            "\u001b[0;31mAnalysisException\u001b[0m                         Traceback (most recent call last)",
            "\u001b[0;32m<ipython-input-34-7be5b95eb288>\u001b[0m in \u001b[0;36m<cell line: 4>\u001b[0;34m()\u001b[0m\n\u001b[1;32m      2\u001b[0m \u001b[0maverage_delay_by_year_calltype\u001b[0m \u001b[0;34m=\u001b[0m \u001b[0mclean_df\u001b[0m\u001b[0;34m.\u001b[0m\u001b[0mgroupBy\u001b[0m\u001b[0;34m(\u001b[0m\u001b[0;34m'Year'\u001b[0m\u001b[0;34m,\u001b[0m \u001b[0;34m'CallType'\u001b[0m\u001b[0;34m)\u001b[0m\u001b[0;34m.\u001b[0m\u001b[0magg\u001b[0m\u001b[0;34m(\u001b[0m\u001b[0mavg\u001b[0m\u001b[0;34m(\u001b[0m\u001b[0;34m'Delay'\u001b[0m\u001b[0;34m)\u001b[0m\u001b[0;34m.\u001b[0m\u001b[0malias\u001b[0m\u001b[0;34m(\u001b[0m\u001b[0;34m'AverageDelay'\u001b[0m\u001b[0;34m)\u001b[0m\u001b[0;34m)\u001b[0m\u001b[0;34m\u001b[0m\u001b[0;34m\u001b[0m\u001b[0m\n\u001b[1;32m      3\u001b[0m \u001b[0mpivoted_data\u001b[0m \u001b[0;34m=\u001b[0m \u001b[0maverage_delay_by_year_calltype\u001b[0m\u001b[0;34m.\u001b[0m\u001b[0mgroupBy\u001b[0m\u001b[0;34m(\u001b[0m\u001b[0;34m'Year'\u001b[0m\u001b[0;34m)\u001b[0m\u001b[0;34m.\u001b[0m\u001b[0mpivot\u001b[0m\u001b[0;34m(\u001b[0m\u001b[0;34m'CallType'\u001b[0m\u001b[0;34m)\u001b[0m\u001b[0;34m.\u001b[0m\u001b[0magg\u001b[0m\u001b[0;34m(\u001b[0m\u001b[0mavg\u001b[0m\u001b[0;34m(\u001b[0m\u001b[0;34m'AverageDelay'\u001b[0m\u001b[0;34m)\u001b[0m\u001b[0;34m)\u001b[0m\u001b[0;34m.\u001b[0m\u001b[0mna\u001b[0m\u001b[0;34m.\u001b[0m\u001b[0mfill\u001b[0m\u001b[0;34m(\u001b[0m\u001b[0;36m0\u001b[0m\u001b[0;34m)\u001b[0m\u001b[0;34m\u001b[0m\u001b[0;34m\u001b[0m\u001b[0m\n\u001b[0;32m----> 4\u001b[0;31m \u001b[0mdata\u001b[0m \u001b[0;34m=\u001b[0m \u001b[0mpivoted_data\u001b[0m\u001b[0;34m.\u001b[0m\u001b[0mselect\u001b[0m\u001b[0;34m(\u001b[0m\u001b[0;34m'Year'\u001b[0m\u001b[0;34m,\u001b[0m \u001b[0;34m'CallType'\u001b[0m\u001b[0;34m)\u001b[0m\u001b[0;34m.\u001b[0m\u001b[0morderBy\u001b[0m\u001b[0;34m(\u001b[0m\u001b[0;34m'Year'\u001b[0m\u001b[0;34m)\u001b[0m\u001b[0;34m.\u001b[0m\u001b[0mtoPandas\u001b[0m\u001b[0;34m(\u001b[0m\u001b[0;34m)\u001b[0m\u001b[0;34m\u001b[0m\u001b[0;34m\u001b[0m\u001b[0m\n\u001b[0m\u001b[1;32m      5\u001b[0m \u001b[0mplt\u001b[0m\u001b[0;34m.\u001b[0m\u001b[0mplot\u001b[0m\u001b[0;34m(\u001b[0m\u001b[0mdata\u001b[0m\u001b[0;34m[\u001b[0m\u001b[0;34m'Year'\u001b[0m\u001b[0;34m]\u001b[0m\u001b[0;34m,\u001b[0m \u001b[0mdata\u001b[0m\u001b[0;34m[\u001b[0m\u001b[0;34m'CallType'\u001b[0m\u001b[0;34m]\u001b[0m\u001b[0;34m)\u001b[0m\u001b[0;34m\u001b[0m\u001b[0;34m\u001b[0m\u001b[0m\n\u001b[1;32m      6\u001b[0m \u001b[0mplt\u001b[0m\u001b[0;34m.\u001b[0m\u001b[0mtitle\u001b[0m\u001b[0;34m(\u001b[0m\u001b[0;34m'Trend of Average Delay for TypeA Over Years'\u001b[0m\u001b[0;34m)\u001b[0m\u001b[0;34m\u001b[0m\u001b[0;34m\u001b[0m\u001b[0m\n",
            "\u001b[0;32m/usr/local/lib/python3.10/dist-packages/pyspark/sql/dataframe.py\u001b[0m in \u001b[0;36mselect\u001b[0;34m(self, *cols)\u001b[0m\n\u001b[1;32m   3221\u001b[0m         \u001b[0;34m+\u001b[0m\u001b[0;34m-\u001b[0m\u001b[0;34m-\u001b[0m\u001b[0;34m-\u001b[0m\u001b[0;34m-\u001b[0m\u001b[0;34m-\u001b[0m\u001b[0;34m+\u001b[0m\u001b[0;34m-\u001b[0m\u001b[0;34m-\u001b[0m\u001b[0;34m-\u001b[0m\u001b[0;34m+\u001b[0m\u001b[0;34m\u001b[0m\u001b[0;34m\u001b[0m\u001b[0m\n\u001b[1;32m   3222\u001b[0m         \"\"\"\n\u001b[0;32m-> 3223\u001b[0;31m         \u001b[0mjdf\u001b[0m \u001b[0;34m=\u001b[0m \u001b[0mself\u001b[0m\u001b[0;34m.\u001b[0m\u001b[0m_jdf\u001b[0m\u001b[0;34m.\u001b[0m\u001b[0mselect\u001b[0m\u001b[0;34m(\u001b[0m\u001b[0mself\u001b[0m\u001b[0;34m.\u001b[0m\u001b[0m_jcols\u001b[0m\u001b[0;34m(\u001b[0m\u001b[0;34m*\u001b[0m\u001b[0mcols\u001b[0m\u001b[0;34m)\u001b[0m\u001b[0;34m)\u001b[0m\u001b[0;34m\u001b[0m\u001b[0;34m\u001b[0m\u001b[0m\n\u001b[0m\u001b[1;32m   3224\u001b[0m         \u001b[0;32mreturn\u001b[0m \u001b[0mDataFrame\u001b[0m\u001b[0;34m(\u001b[0m\u001b[0mjdf\u001b[0m\u001b[0;34m,\u001b[0m \u001b[0mself\u001b[0m\u001b[0;34m.\u001b[0m\u001b[0msparkSession\u001b[0m\u001b[0;34m)\u001b[0m\u001b[0;34m\u001b[0m\u001b[0;34m\u001b[0m\u001b[0m\n\u001b[1;32m   3225\u001b[0m \u001b[0;34m\u001b[0m\u001b[0m\n",
            "\u001b[0;32m/usr/local/lib/python3.10/dist-packages/py4j/java_gateway.py\u001b[0m in \u001b[0;36m__call__\u001b[0;34m(self, *args)\u001b[0m\n\u001b[1;32m   1320\u001b[0m \u001b[0;34m\u001b[0m\u001b[0m\n\u001b[1;32m   1321\u001b[0m         \u001b[0manswer\u001b[0m \u001b[0;34m=\u001b[0m \u001b[0mself\u001b[0m\u001b[0;34m.\u001b[0m\u001b[0mgateway_client\u001b[0m\u001b[0;34m.\u001b[0m\u001b[0msend_command\u001b[0m\u001b[0;34m(\u001b[0m\u001b[0mcommand\u001b[0m\u001b[0;34m)\u001b[0m\u001b[0;34m\u001b[0m\u001b[0;34m\u001b[0m\u001b[0m\n\u001b[0;32m-> 1322\u001b[0;31m         return_value = get_return_value(\n\u001b[0m\u001b[1;32m   1323\u001b[0m             answer, self.gateway_client, self.target_id, self.name)\n\u001b[1;32m   1324\u001b[0m \u001b[0;34m\u001b[0m\u001b[0m\n",
            "\u001b[0;32m/usr/local/lib/python3.10/dist-packages/pyspark/errors/exceptions/captured.py\u001b[0m in \u001b[0;36mdeco\u001b[0;34m(*a, **kw)\u001b[0m\n\u001b[1;32m    183\u001b[0m                 \u001b[0;31m# Hide where the exception came from that shows a non-Pythonic\u001b[0m\u001b[0;34m\u001b[0m\u001b[0;34m\u001b[0m\u001b[0m\n\u001b[1;32m    184\u001b[0m                 \u001b[0;31m# JVM exception message.\u001b[0m\u001b[0;34m\u001b[0m\u001b[0;34m\u001b[0m\u001b[0m\n\u001b[0;32m--> 185\u001b[0;31m                 \u001b[0;32mraise\u001b[0m \u001b[0mconverted\u001b[0m \u001b[0;32mfrom\u001b[0m \u001b[0;32mNone\u001b[0m\u001b[0;34m\u001b[0m\u001b[0;34m\u001b[0m\u001b[0m\n\u001b[0m\u001b[1;32m    186\u001b[0m             \u001b[0;32melse\u001b[0m\u001b[0;34m:\u001b[0m\u001b[0;34m\u001b[0m\u001b[0;34m\u001b[0m\u001b[0m\n\u001b[1;32m    187\u001b[0m                 \u001b[0;32mraise\u001b[0m\u001b[0;34m\u001b[0m\u001b[0;34m\u001b[0m\u001b[0m\n",
            "\u001b[0;31mAnalysisException\u001b[0m: [UNRESOLVED_COLUMN.WITH_SUGGESTION] A column or function parameter with name `CallType` cannot be resolved. Did you mean one of the following? [`Alarms`, `HazMat`, `Other`, `Year`, `Oil Spill`].;\n'Project [Year#2030, 'CallType]\n+- Project [coalesce(Year#273, cast(0.0 as int)) AS Year#2030, coalesce(nanvl(Aircraft Emergency#1918, cast(null as double)), cast(0.0 as double)) AS Aircraft Emergency#2031, coalesce(nanvl(Alarms#1919, cast(null as double)), cast(0.0 as double)) AS Alarms#2032, coalesce(nanvl(Citizen Assist / Service Call#1920, cast(null as double)), cast(0.0 as double)) AS Citizen Assist / Service Call#2033, coalesce(nanvl(Electrical Hazard#1921, cast(null as double)), cast(0.0 as double)) AS Electrical Hazard#2034, coalesce(nanvl(Elevator / Escalator Rescue#1922, cast(null as double)), cast(0.0 as double)) AS Elevator / Escalator Rescue#2035, coalesce(nanvl(Explosion#1923, cast(null as double)), cast(0.0 as double)) AS Explosion#2036, coalesce(nanvl(Fuel Spill#1924, cast(null as double)), cast(0.0 as double)) AS Fuel Spill#2037, coalesce(nanvl(Gas Leak (Natural and LP Gases)#1925, cast(null as double)), cast(0.0 as double)) AS Gas Leak (Natural and LP Gases)#2038, coalesce(nanvl(HazMat#1926, cast(null as double)), cast(0.0 as double)) AS HazMat#2039, coalesce(nanvl(Industrial Accidents#1927, cast(null as double)), cast(0.0 as double)) AS Industrial Accidents#2040, coalesce(nanvl(Medical Incident#1928, cast(null as double)), cast(0.0 as double)) AS Medical Incident#2041, coalesce(nanvl(Odor (Strange / Unknown)#1929, cast(null as double)), cast(0.0 as double)) AS Odor (Strange / Unknown)#2042, coalesce(nanvl(Oil Spill#1930, cast(null as double)), cast(0.0 as double)) AS Oil Spill#2043, co...\n   +- Project [Year#273, __pivot_avg(AverageDelay) AS `avg(AverageDelay)`#1917[0] AS Aircraft Emergency#1918, __pivot_avg(AverageDelay) AS `avg(AverageDelay)`#1917[1] AS Alarms#1919, __pivot_avg(AverageDelay) AS `avg(AverageDelay)`#1917[2] AS Citizen Assist / Service Call#1920, __pivot_avg(AverageDelay) AS `avg(AverageDelay)`#1917[3] AS Electrical Hazard#1921, __pivot_avg(AverageDelay) AS `avg(AverageDelay)`#1917[4] AS Elevator / Escalator Rescue#1922, __pivot_avg(AverageDelay) AS `avg(AverageDelay)`#1917[5] AS Explosion#1923, __pivot_avg(AverageDelay) AS `avg(AverageDelay)`#1917[6] AS Fuel Spill#1924, __pivot_avg(AverageDelay) AS `avg(AverageDelay)`#1917[7] AS Gas Leak (Natural and LP Gases)#1925, __pivot_avg(AverageDelay) AS `avg(AverageDelay)`#1917[8] AS HazMat#1926, __pivot_avg(AverageDelay) AS `avg(AverageDelay)`#1917[9] AS Industrial Accidents#1927, __pivot_avg(AverageDelay) AS `avg(AverageDelay)`#1917[10] AS Medical Incident#1928, __pivot_avg(AverageDelay) AS `avg(AverageDelay)`#1917[11] AS Odor (Strange / Unknown)#1929, __pivot_avg(AverageDelay) AS `avg(AverageDelay)`#1917[12] AS Oil Spill#1930, __pivot_avg(AverageDelay) AS `avg(AverageDelay)`#1917[13] AS Other#1931, __pivot_avg(AverageDelay) AS `avg(AverageDelay)`#1917[14] AS Outside Fire#1932, __pivot_avg(AverageDelay) AS `avg(AverageDelay)`#1917[15] AS Smoke Investigation (Outside)#1933, __pivot_avg(AverageDelay) AS `avg(AverageDelay)`#1917[16] AS Structure Fire#1934, __pivot_avg(AverageDelay) AS `avg(AverageDel...\n      +- Aggregate [Year#273], [Year#273, pivotfirst(CallType#20, avg(AverageDelay)#1871, Aircraft Emergency, Alarms, Citizen Assist / Service Call, Electrical Hazard, Elevator / Escalator Rescue, Explosion, Fuel Spill, Gas Leak (Natural and LP Gases), HazMat, Industrial Accidents, Medical Incident, Odor (Strange / Unknown), Oil Spill, Other, Outside Fire, Smoke Investigation (Outside), Structure Fire, Suspicious Package, Traffic Collision, Train / Rail Incident, Vehicle Fire, Water Rescue, 0, 0) AS __pivot_avg(AverageDelay) AS `avg(AverageDelay)`#1917]\n         +- Aggregate [Year#273, CallType#20], [Year#273, CallType#20, avg(AverageDelay#1858) AS avg(AverageDelay)#1871]\n            +- Aggregate [Year#273, CallType#20], [Year#273, CallType#20, avg(Delay#44) AS AverageDelay#1858]\n               +- Project [CallNumber#17, UnitID#18, IncidentNumber#19, CallType#20, WatchDate#22, CallFinalDisposition#23, AvailableDtTm#24, Address#25, City#26, Zipcode#27, Battalion#28, StationArea#29, Box#30, OriginalPriority#31, Priority#32, FinalPriority#33, ALSUnit#34, CallTypeGroup#35, NumAlarms#36, UnitType#37, UnitSequenceInCallDispatch#38, FirePreventionDistrict#39, SupervisorDistrict#40, Neighborhood#41, ... 8 more fields]\n                  +- Project [CallNumber#17, UnitID#18, IncidentNumber#19, CallType#20, WatchDate#22, CallFinalDisposition#23, AvailableDtTm#24, Address#25, City#26, Zipcode#27, Battalion#28, StationArea#29, Box#30, OriginalPriority#31, Priority#32, FinalPriority#33, ALSUnit#34, CallTypeGroup#35, NumAlarms#36, UnitType#37, UnitSequenceInCallDispatch#38, FirePreventionDistrict#39, SupervisorDistrict#40, Neighborhood#41, ... 7 more fields]\n                     +- Project [CallNumber#17, UnitID#18, IncidentNumber#19, CallType#20, WatchDate#22, CallFinalDisposition#23, AvailableDtTm#24, Address#25, City#26, Zipcode#27, Battalion#28, StationArea#29, Box#30, OriginalPriority#31, Priority#32, FinalPriority#33, ALSUnit#34, CallTypeGroup#35, NumAlarms#36, UnitType#37, UnitSequenceInCallDispatch#38, FirePreventionDistrict#39, SupervisorDistrict#40, Neighborhood#41, ... 6 more fields]\n                        +- Project [CallNumber#17, UnitID#18, IncidentNumber#19, CallType#20, WatchDate#22, CallFinalDisposition#23, AvailableDtTm#24, Address#25, City#26, Zipcode#27, Battalion#28, StationArea#29, Box#30, OriginalPriority#31, Priority#32, FinalPriority#33, ALSUnit#34, CallTypeGroup#35, NumAlarms#36, UnitType#37, UnitSequenceInCallDispatch#38, FirePreventionDistrict#39, SupervisorDistrict#40, Neighborhood#41, ... 5 more fields]\n                           +- Project [CallNumber#17, UnitID#18, IncidentNumber#19, CallType#20, WatchDate#22, CallFinalDisposition#23, AvailableDtTm#24, Address#25, City#26, Zipcode#27, Battalion#28, StationArea#29, Box#30, OriginalPriority#31, Priority#32, FinalPriority#33, ALSUnit#34, CallTypeGroup#35, NumAlarms#36, UnitType#37, UnitSequenceInCallDispatch#38, FirePreventionDistrict#39, SupervisorDistrict#40, Neighborhood#41, ... 4 more fields]\n                              +- Project [CallNumber#17, UnitID#18, IncidentNumber#19, CallType#20, CallDate#21, WatchDate#22, CallFinalDisposition#23, AvailableDtTm#24, Address#25, City#26, Zipcode#27, Battalion#28, StationArea#29, Box#30, OriginalPriority#31, Priority#32, FinalPriority#33, ALSUnit#34, CallTypeGroup#35, NumAlarms#36, UnitType#37, UnitSequenceInCallDispatch#38, FirePreventionDistrict#39, SupervisorDistrict#40, ... 5 more fields]\n                                 +- Relation [CallNumber#17,UnitID#18,IncidentNumber#19,CallType#20,CallDate#21,WatchDate#22,CallFinalDisposition#23,AvailableDtTm#24,Address#25,City#26,Zipcode#27,Battalion#28,StationArea#29,Box#30,OriginalPriority#31,Priority#32,FinalPriority#33,ALSUnit#34,CallTypeGroup#35,NumAlarms#36,UnitType#37,UnitSequenceInCallDispatch#38,FirePreventionDistrict#39,SupervisorDistrict#40,... 4 more fields] csv\n"
          ]
        }
      ]
    },
    {
      "cell_type": "code",
      "source": [
        "#For each year find out which city has more calltype\n",
        "\n",
        "call_type_by_city_year = clean_df.groupBy('Year', 'CallType', 'City').count()\n",
        "window_spec = Window.partitionBy('Year', 'CallType').orderBy(col('count').desc())\n",
        "max_call_type_by_city_year = call_type_by_city_year.withColumn('rank', rank().over(window_spec))\n",
        "max_calls_by_city_year = max_call_type_by_city_year.filter(col('rank') == 1)\n",
        "max_calls_by_city_year.show()"
      ],
      "metadata": {
        "colab": {
          "base_uri": "https://localhost:8080/"
        },
        "id": "Shc4JZFLikF9",
        "outputId": "6d0941d5-acbd-4931-ad9a-1bf86589d811"
      },
      "execution_count": null,
      "outputs": [
        {
          "output_type": "stream",
          "name": "stdout",
          "text": [
            "+----+--------------------+----+-----+----+\n",
            "|Year|            CallType|City|count|rank|\n",
            "+----+--------------------+----+-----+----+\n",
            "|2002|  Aircraft Emergency| SFO|    5|   1|\n",
            "|2002|              Alarms|  SF|  805|   1|\n",
            "|2002|Citizen Assist / ...|  SF|  136|   1|\n",
            "|2002|   Electrical Hazard|  SF|   20|   1|\n",
            "|2002|Elevator / Escala...|  SF|   19|   1|\n",
            "|2002|          Fuel Spill|  SF|    6|   1|\n",
            "|2002|Gas Leak (Natural...|  SF|   14|   1|\n",
            "|2002|              HazMat|  SF|    4|   1|\n",
            "|2002|Industrial Accidents|  SF|    6|   1|\n",
            "|2002|    Medical Incident|  SF| 4872|   1|\n",
            "|2002|Odor (Strange / U...|  SF|   36|   1|\n",
            "|2002|           Oil Spill|  SF|    3|   1|\n",
            "|2002|               Other|  SF|  166|   1|\n",
            "|2002|        Outside Fire|  SF|   87|   1|\n",
            "|2002|Smoke Investigati...|  SF|   26|   1|\n",
            "|2002|      Structure Fire|  SF| 1524|   1|\n",
            "|2002|  Suspicious Package|  SF|    1|   1|\n",
            "|2002|   Traffic Collision|  SF|   34|   1|\n",
            "|2002|Train / Rail Inci...|  SF|    4|   1|\n",
            "|2002|        Vehicle Fire|  SF|   29|   1|\n",
            "+----+--------------------+----+-----+----+\n",
            "only showing top 20 rows\n",
            "\n"
          ]
        }
      ]
    },
    {
      "cell_type": "code",
      "source": [
        "#For each year find out which city has more calltype\n",
        "\n",
        "call_type_by_city_year = clean_df.groupBy('Year', 'CallType', 'City').count()\n",
        "window_spec = Window.partitionBy('Year', 'CallType').orderBy(col('count').desc())\n",
        "max_call_type_by_city_year = call_type_by_city_year.withColumn('rank', rank().over(window_spec))\n",
        "max_calls_by_city_year = max_call_type_by_city_year.filter(col('rank') == 1)\n",
        "max_calls_by_city_year.show()"
      ],
      "metadata": {
        "colab": {
          "base_uri": "https://localhost:8080/"
        },
        "id": "pIs2DFZuij_c",
        "outputId": "b659c292-adc6-42a4-d9b5-a9ea4a8a9a3e"
      },
      "execution_count": null,
      "outputs": [
        {
          "output_type": "stream",
          "name": "stdout",
          "text": [
            "+----+--------------------+----+-----+----+\n",
            "|Year|            CallType|City|count|rank|\n",
            "+----+--------------------+----+-----+----+\n",
            "|2002|  Aircraft Emergency| SFO|    5|   1|\n",
            "|2002|              Alarms|  SF|  805|   1|\n",
            "|2002|Citizen Assist / ...|  SF|  136|   1|\n",
            "|2002|   Electrical Hazard|  SF|   20|   1|\n",
            "|2002|Elevator / Escala...|  SF|   19|   1|\n",
            "|2002|          Fuel Spill|  SF|    6|   1|\n",
            "|2002|Gas Leak (Natural...|  SF|   14|   1|\n",
            "|2002|              HazMat|  SF|    4|   1|\n",
            "|2002|Industrial Accidents|  SF|    6|   1|\n",
            "|2002|    Medical Incident|  SF| 4872|   1|\n",
            "|2002|Odor (Strange / U...|  SF|   36|   1|\n",
            "|2002|           Oil Spill|  SF|    3|   1|\n",
            "|2002|               Other|  SF|  166|   1|\n",
            "|2002|        Outside Fire|  SF|   87|   1|\n",
            "|2002|Smoke Investigati...|  SF|   26|   1|\n",
            "|2002|      Structure Fire|  SF| 1524|   1|\n",
            "|2002|  Suspicious Package|  SF|    1|   1|\n",
            "|2002|   Traffic Collision|  SF|   34|   1|\n",
            "|2002|Train / Rail Inci...|  SF|    4|   1|\n",
            "|2002|        Vehicle Fire|  SF|   29|   1|\n",
            "+----+--------------------+----+-----+----+\n",
            "only showing top 20 rows\n",
            "\n"
          ]
        }
      ]
    },
    {
      "cell_type": "code",
      "source": [
        "#Is there a correlation between neighborhood, zip code, and number of fire calls\n",
        "from pyspark.sql import SparkSession\n",
        "from pyspark.sql.functions import col\n",
        "from pyspark.sql.types import DoubleType\n",
        "from pyspark.ml.stat import Correlation\n",
        "from pyspark.ml.feature import VectorAssembler\n",
        "\n",
        "# Create a Spark session\n",
        "aggregated_data = clean_df.groupBy('Neighborhood', 'ZipCode').count()\n",
        "pivoted_data = aggregated_data.groupBy('Neighborhood').pivot('ZipCode').count().na.fill(0)\n",
        "assembler = VectorAssembler(inputCols=pivoted_data.columns[1:], outputCol=\"features\")\n",
        "feature_vector = assembler.transform(pivoted_data)\n",
        "correlation_matrix = Correlation.corr(feature_vector, \"features\", method=\"pearson\")\n",
        "correlation_array = correlation_matrix.collect()[0][\"pearson(features)\"].toArray()\n",
        "for i, neighborhood in enumerate(pivoted_data.select('Neighborhood').rdd.map(lambda x: x[0]).collect()):\n",
        "    for j, zip_code in enumerate(pivoted_data.columns[1:]):\n",
        "        correlation = correlation_array[i][j]\n",
        "        print(f\"Correlation between {neighborhood} and {zip_code}: {correlation}\")"
      ],
      "metadata": {
        "id": "ohydi_-sjUvb",
        "colab": {
          "base_uri": "https://localhost:8080/",
          "height": 1000
        },
        "outputId": "763efa36-79e1-4636-f554-7b3f730ac7ea"
      },
      "execution_count": null,
      "outputs": [
        {
          "output_type": "stream",
          "name": "stdout",
          "text": [
            "Correlation between Inner Sunset and null: 1.0\n",
            "Correlation between Inner Sunset and 94102: -0.06375767130633382\n",
            "Correlation between Inner Sunset and 94103: -0.07575540190785703\n",
            "Correlation between Inner Sunset and 94104: -0.03492151478847891\n",
            "Correlation between Inner Sunset and 94105: -0.024390243902439022\n",
            "Correlation between Inner Sunset and 94107: -0.057410616663949914\n",
            "Correlation between Inner Sunset and 94108: -0.043314808182421\n",
            "Correlation between Inner Sunset and 94109: -0.0698430295769578\n",
            "Correlation between Inner Sunset and 94110: -0.06375767130633382\n",
            "Correlation between Inner Sunset and 94111: -0.043314808182421\n",
            "Correlation between Inner Sunset and 94112: -0.06375767130633382\n",
            "Correlation between Inner Sunset and 94114: -0.06375767130633382\n",
            "Correlation between Inner Sunset and 94115: -0.057410616663949914\n",
            "Correlation between Inner Sunset and 94116: -0.043314808182421\n",
            "Correlation between Inner Sunset and 94117: -0.0698430295769578\n",
            "Correlation between Inner Sunset and 94118: -0.057410616663949914\n",
            "Correlation between Inner Sunset and 94121: -0.043314808182421\n",
            "Correlation between Inner Sunset and 94122: -0.06375767130633382\n",
            "Correlation between Inner Sunset and 94123: -0.043314808182421\n",
            "Correlation between Inner Sunset and 94124: 0.48135986234123296\n",
            "Correlation between Inner Sunset and 94127: -0.03492151478847891\n",
            "Correlation between Inner Sunset and 94129: -0.024390243902439022\n",
            "Correlation between Inner Sunset and 94130: -0.024390243902439022\n",
            "Correlation between Inner Sunset and 94131: -0.057410616663949914\n",
            "Correlation between Inner Sunset and 94132: -0.050669459193814\n",
            "Correlation between Inner Sunset and 94133: -0.050669459193814\n",
            "Correlation between Inner Sunset and 94134: 0.38254602783800296\n",
            "Correlation between Inner Sunset and 94158: 0.563092506371473\n",
            "Correlation between Haight Ashbury and null: -0.06375767130633382\n",
            "Correlation between Haight Ashbury and 94102: 1.0\n",
            "Correlation between Haight Ashbury and 94103: 0.4950737714883372\n",
            "Correlation between Haight Ashbury and 94104: 0.22821773229381923\n",
            "Correlation between Haight Ashbury and 94105: 0.38254602783800296\n",
            "Correlation between Haight Ashbury and 94107: 0.27013510133444896\n",
            "Correlation between Haight Ashbury and 94108: 0.41516824585301854\n",
            "Correlation between Haight Ashbury and 94109: 0.3651483716701107\n",
            "Correlation between Haight Ashbury and 94110: -0.16666666666666663\n",
            "Correlation between Haight Ashbury and 94111: 0.15097027121927947\n",
            "Correlation between Haight Ashbury and 94112: -0.16666666666666663\n",
            "Correlation between Haight Ashbury and 94114: 0.027777777777777794\n",
            "Correlation between Haight Ashbury and 94115: 0.060030022518766435\n",
            "Correlation between Haight Ashbury and 94116: -0.11322770341445958\n",
            "Correlation between Haight Ashbury and 94117: 0.18257418583505539\n",
            "Correlation between Haight Ashbury and 94118: -0.15007505629691603\n",
            "Correlation between Haight Ashbury and 94121: -0.11322770341445958\n",
            "Correlation between Haight Ashbury and 94122: -0.16666666666666663\n",
            "Correlation between Haight Ashbury and 94123: -0.11322770341445958\n",
            "Correlation between Haight Ashbury and 94124: -0.13245323570650436\n",
            "Correlation between Haight Ashbury and 94127: -0.09128709291752767\n",
            "Correlation between Haight Ashbury and 94129: -0.06375767130633382\n",
            "Correlation between Haight Ashbury and 94130: -0.06375767130633382\n",
            "Correlation between Haight Ashbury and 94131: -0.15007505629691603\n",
            "Correlation between Haight Ashbury and 94132: -0.13245323570650436\n",
            "Correlation between Haight Ashbury and 94133: 0.09933992677987831\n",
            "Correlation between Haight Ashbury and 94134: -0.16666666666666663\n",
            "Correlation between Haight Ashbury and 94158: -0.11322770341445958\n",
            "Correlation between Lincoln Park and null: -0.07575540190785703\n",
            "Correlation between Lincoln Park and 94102: 0.4950737714883372\n",
            "Correlation between Lincoln Park and 94103: 1.0\n",
            "Correlation between Lincoln Park and 94104: 0.17625599697765815\n",
            "Correlation between Lincoln Park and 94105: 0.32196045810839236\n",
            "Correlation between Lincoln Park and 94107: 0.5706103612971937\n",
            "Correlation between Lincoln Park and 94108: 0.10090091909944689\n",
            "Correlation between Lincoln Park and 94109: -0.054232614454664006\n",
            "Correlation between Lincoln Park and 94110: 0.32179795146741913\n",
            "Correlation between Lincoln Park and 94111: 0.10090091909944689\n",
            "Correlation between Lincoln Park and 94112: -0.19802950859533486\n",
            "Correlation between Lincoln Park and 94114: 0.14852213144650117\n",
            "Correlation between Lincoln Park and 94115: -0.17831573790537303\n",
            "Correlation between Lincoln Park and 94116: -0.13453455879926252\n",
            "Correlation between Lincoln Park and 94117: 0.10846522890932811\n",
            "Correlation between Lincoln Park and 94118: -0.17831573790537303\n",
            "Correlation between Lincoln Park and 94121: -0.13453455879926252\n",
            "Correlation between Lincoln Park and 94122: -0.19802950859533486\n",
            "Correlation between Lincoln Park and 94123: -0.13453455879926252\n",
            "Correlation between Lincoln Park and 94124: -0.15737789507292677\n",
            "Correlation between Lincoln Park and 94127: -0.10846522890932808\n",
            "Correlation between Lincoln Park and 94129: -0.07575540190785703\n",
            "Correlation between Lincoln Park and 94130: -0.07575540190785703\n",
            "Correlation between Lincoln Park and 94131: -0.17831573790537303\n",
            "Correlation between Lincoln Park and 94132: -0.15737789507292677\n",
            "Correlation between Lincoln Park and 94133: -0.15737789507292677\n",
            "Correlation between Lincoln Park and 94134: -0.19802950859533486\n",
            "Correlation between Lincoln Park and 94158: 0.3363363969981563\n",
            "Correlation between Japantown and null: -0.03492151478847891\n",
            "Correlation between Japantown and 94102: 0.22821773229381923\n",
            "Correlation between Japantown and 94103: 0.17625599697765815\n",
            "Correlation between Japantown and 94104: 1.0\n",
            "Correlation between Japantown and 94105: 0.6984302957695782\n",
            "Correlation between Japantown and 94107: 0.2630383796885717\n",
            "Correlation between Japantown and 94108: 0.806225774829855\n",
            "Correlation between Japantown and 94109: -0.09999999999999998\n",
            "Correlation between Japantown and 94110: -0.09128709291752768\n",
            "Correlation between Japantown and 94111: 0.806225774829855\n",
            "Correlation between Japantown and 94112: -0.09128709291752768\n",
            "Correlation between Japantown and 94114: -0.09128709291752768\n",
            "Correlation between Japantown and 94115: -0.08219949365267865\n",
            "Correlation between Japantown and 94116: -0.062017367294604234\n",
            "Correlation between Japantown and 94117: -0.09999999999999998\n",
            "Correlation between Japantown and 94118: -0.08219949365267865\n",
            "Correlation between Japantown and 94121: -0.062017367294604234\n",
            "Correlation between Japantown and 94122: -0.09128709291752768\n",
            "Correlation between Japantown and 94123: -0.062017367294604234\n",
            "Correlation between Japantown and 94124: -0.07254762501100118\n",
            "Correlation between Japantown and 94127: -0.05\n",
            "Correlation between Japantown and 94129: -0.03492151478847891\n",
            "Correlation between Japantown and 94130: -0.03492151478847891\n",
            "Correlation between Japantown and 94131: -0.08219949365267865\n",
            "Correlation between Japantown and 94132: -0.07254762501100118\n",
            "Correlation between Japantown and 94133: 0.308327406296755\n",
            "Correlation between Japantown and 94134: -0.09128709291752768\n",
            "Correlation between Japantown and 94158: -0.062017367294604234\n",
            "Correlation between None and null: -0.024390243902439022\n",
            "Correlation between None and 94102: 0.38254602783800296\n",
            "Correlation between None and 94103: 0.32196045810839236\n",
            "Correlation between None and 94104: 0.6984302957695782\n",
            "Correlation between None and 94105: 1.0\n",
            "Correlation between None and 94107: 0.4248385633132294\n",
            "Correlation between None and 94108: 0.563092506371473\n",
            "Correlation between None and 94109: -0.0698430295769578\n",
            "Correlation between None and 94110: -0.06375767130633382\n",
            "Correlation between None and 94111: 0.563092506371473\n",
            "Correlation between None and 94112: -0.06375767130633382\n",
            "Correlation between None and 94114: -0.06375767130633382\n",
            "Correlation between None and 94115: -0.057410616663949914\n",
            "Correlation between None and 94116: -0.043314808182421\n",
            "Correlation between None and 94117: -0.0698430295769578\n",
            "Correlation between None and 94118: -0.057410616663949914\n",
            "Correlation between None and 94121: -0.043314808182421\n",
            "Correlation between None and 94122: -0.06375767130633382\n",
            "Correlation between None and 94123: -0.043314808182421\n",
            "Correlation between None and 94124: -0.050669459193814\n",
            "Correlation between None and 94127: -0.03492151478847891\n",
            "Correlation between None and 94129: -0.024390243902439022\n",
            "Correlation between None and 94130: -0.024390243902439022\n",
            "Correlation between None and 94131: -0.057410616663949914\n",
            "Correlation between None and 94132: -0.050669459193814\n",
            "Correlation between None and 94133: -0.050669459193814\n",
            "Correlation between None and 94134: -0.06375767130633382\n",
            "Correlation between None and 94158: -0.043314808182421\n",
            "Correlation between North Beach and null: -0.057410616663949914\n",
            "Correlation between North Beach and 94102: 0.27013510133444896\n",
            "Correlation between North Beach and 94103: 0.5706103612971937\n",
            "Correlation between North Beach and 94104: 0.2630383796885717\n",
            "Correlation between North Beach and 94105: 0.4248385633132294\n",
            "Correlation between North Beach and 94107: 1.0\n",
            "Correlation between North Beach and 94108: 0.1835206628143918\n",
            "Correlation between North Beach and 94109: -0.16439898730535726\n",
            "Correlation between North Beach and 94110: 0.060030022518766435\n",
            "Correlation between North Beach and 94111: 0.1835206628143918\n",
            "Correlation between North Beach and 94112: -0.15007505629691603\n",
            "Correlation between North Beach and 94114: -0.15007505629691603\n",
            "Correlation between North Beach and 94115: -0.13513513513513511\n",
            "Correlation between North Beach and 94116: -0.1019559237857732\n",
            "Correlation between North Beach and 94117: -0.16439898730535726\n",
            "Correlation between North Beach and 94118: -0.13513513513513511\n",
            "Correlation between North Beach and 94121: -0.1019559237857732\n",
            "Correlation between North Beach and 94122: -0.15007505629691603\n",
            "Correlation between North Beach and 94123: -0.1019559237857732\n",
            "Correlation between North Beach and 94124: 0.13119431691539143\n",
            "Correlation between North Beach and 94127: -0.08219949365267863\n",
            "Correlation between North Beach and 94129: -0.05741061666394991\n",
            "Correlation between North Beach and 94130: -0.05741061666394991\n",
            "Correlation between North Beach and 94131: -0.13513513513513511\n",
            "Correlation between North Beach and 94132: -0.119267560832174\n",
            "Correlation between North Beach and 94133: -0.119267560832174\n",
            "Correlation between North Beach and 94134: 0.060030022518766435\n",
            "Correlation between North Beach and 94158: 0.4689972494145568\n",
            "Correlation between Lone Mountain/USF and null: -0.043314808182421\n",
            "Correlation between Lone Mountain/USF and 94102: 0.41516824585301854\n",
            "Correlation between Lone Mountain/USF and 94103: 0.10090091909944689\n",
            "Correlation between Lone Mountain/USF and 94104: 0.806225774829855\n",
            "Correlation between Lone Mountain/USF and 94105: 0.563092506371473\n",
            "Correlation between Lone Mountain/USF and 94107: 0.1835206628143918\n",
            "Correlation between Lone Mountain/USF and 94108: 1.0\n",
            "Correlation between Lone Mountain/USF and 94109: 0.12403473458920848\n",
            "Correlation between Lone Mountain/USF and 94110: -0.11322770341445958\n",
            "Correlation between Lone Mountain/USF and 94111: 0.6410256410256412\n",
            "Correlation between Lone Mountain/USF and 94112: -0.11322770341445958\n",
            "Correlation between Lone Mountain/USF and 94114: -0.11322770341445958\n",
            "Correlation between Lone Mountain/USF and 94115: -0.1019559237857732\n",
            "Correlation between Lone Mountain/USF and 94116: -0.07692307692307694\n",
            "Correlation between Lone Mountain/USF and 94117: -0.12403473458920844\n",
            "Correlation between Lone Mountain/USF and 94118: -0.1019559237857732\n",
            "Correlation between Lone Mountain/USF and 94121: -0.07692307692307694\n",
            "Correlation between Lone Mountain/USF and 94122: -0.11322770341445958\n",
            "Correlation between Lone Mountain/USF and 94123: -0.07692307692307694\n",
            "Correlation between Lone Mountain/USF and 94124: -0.0899842541331695\n",
            "Correlation between Lone Mountain/USF and 94127: -0.06201736729460423\n",
            "Correlation between Lone Mountain/USF and 94129: -0.04331480818242099\n",
            "Correlation between Lone Mountain/USF and 94130: -0.04331480818242099\n",
            "Correlation between Lone Mountain/USF and 94131: -0.1019559237857732\n",
            "Correlation between Lone Mountain/USF and 94132: -0.0899842541331695\n",
            "Correlation between Lone Mountain/USF and 94133: 0.5399055247990171\n",
            "Correlation between Lone Mountain/USF and 94134: -0.11322770341445958\n",
            "Correlation between Lone Mountain/USF and 94158: -0.07692307692307694\n",
            "Correlation between Western Addition and null: -0.0698430295769578\n",
            "Correlation between Western Addition and 94102: 0.3651483716701107\n",
            "Correlation between Western Addition and 94103: -0.054232614454664006\n",
            "Correlation between Western Addition and 94104: -0.09999999999999998\n",
            "Correlation between Western Addition and 94105: -0.0698430295769578\n",
            "Correlation between Western Addition and 94107: -0.16439898730535726\n",
            "Correlation between Western Addition and 94108: 0.12403473458920848\n",
            "Correlation between Western Addition and 94109: 1.0\n",
            "Correlation between Western Addition and 94110: -0.18257418583505533\n",
            "Correlation between Western Addition and 94111: -0.12403473458920844\n",
            "Correlation between Western Addition and 94112: -0.18257418583505533\n",
            "Correlation between Western Addition and 94114: -0.18257418583505533\n",
            "Correlation between Western Addition and 94115: 0.4274373669939288\n",
            "Correlation between Western Addition and 94116: -0.12403473458920844\n",
            "Correlation between Western Addition and 94117: -0.028571428571428522\n",
            "Correlation between Western Addition and 94118: -0.16439898730535724\n",
            "Correlation between Western Addition and 94121: -0.12403473458920844\n",
            "Correlation between Western Addition and 94122: -0.18257418583505533\n",
            "Correlation between Western Addition and 94123: 0.37210420376762543\n",
            "Correlation between Western Addition and 94124: -0.1450952500220023\n",
            "Correlation between Western Addition and 94127: -0.09999999999999998\n",
            "Correlation between Western Addition and 94129: -0.0698430295769578\n",
            "Correlation between Western Addition and 94130: -0.0698430295769578\n",
            "Correlation between Western Addition and 94131: -0.16439898730535724\n",
            "Correlation between Western Addition and 94132: -0.1450952500220023\n",
            "Correlation between Western Addition and 94133: 0.29019050004400465\n",
            "Correlation between Western Addition and 94134: -0.18257418583505533\n",
            "Correlation between Western Addition and 94158: -0.12403473458920844\n",
            "Correlation between Bernal Heights and null: -0.06375767130633382\n",
            "Correlation between Bernal Heights and 94102: -0.16666666666666663\n",
            "Correlation between Bernal Heights and 94103: 0.32179795146741913\n",
            "Correlation between Bernal Heights and 94104: -0.09128709291752768\n",
            "Correlation between Bernal Heights and 94105: -0.06375767130633382\n",
            "Correlation between Bernal Heights and 94107: 0.060030022518766435\n",
            "Correlation between Bernal Heights and 94108: -0.11322770341445958\n",
            "Correlation between Bernal Heights and 94109: -0.18257418583505533\n",
            "Correlation between Bernal Heights and 94110: 1.0\n",
            "Correlation between Bernal Heights and 94111: -0.11322770341445958\n",
            "Correlation between Bernal Heights and 94112: 0.027777777777777794\n",
            "Correlation between Bernal Heights and 94114: 0.2222222222222222\n",
            "Correlation between Bernal Heights and 94115: -0.15007505629691603\n",
            "Correlation between Bernal Heights and 94116: -0.11322770341445958\n",
            "Correlation between Bernal Heights and 94117: 2.5970689554584665e-17\n",
            "Correlation between Bernal Heights and 94118: -0.15007505629691603\n",
            "Correlation between Bernal Heights and 94121: -0.11322770341445958\n",
            "Correlation between Bernal Heights and 94122: -0.16666666666666663\n",
            "Correlation between Bernal Heights and 94123: -0.11322770341445958\n",
            "Correlation between Bernal Heights and 94124: 0.09933992677987831\n",
            "Correlation between Bernal Heights and 94127: -0.09128709291752767\n",
            "Correlation between Bernal Heights and 94129: -0.06375767130633382\n",
            "Correlation between Bernal Heights and 94130: -0.06375767130633382\n",
            "Correlation between Bernal Heights and 94131: 0.27013510133444896\n",
            "Correlation between Bernal Heights and 94132: -0.13245323570650436\n",
            "Correlation between Bernal Heights and 94133: -0.13245323570650436\n",
            "Correlation between Bernal Heights and 94134: -0.16666666666666663\n",
            "Correlation between Bernal Heights and 94158: 0.15097027121927947\n",
            "Correlation between Mission Bay and null: -0.043314808182421\n",
            "Correlation between Mission Bay and 94102: 0.15097027121927947\n",
            "Correlation between Mission Bay and 94103: 0.10090091909944689\n",
            "Correlation between Mission Bay and 94104: 0.806225774829855\n",
            "Correlation between Mission Bay and 94105: 0.563092506371473\n",
            "Correlation between Mission Bay and 94107: 0.1835206628143918\n",
            "Correlation between Mission Bay and 94108: 0.6410256410256412\n",
            "Correlation between Mission Bay and 94109: -0.12403473458920844\n",
            "Correlation between Mission Bay and 94110: -0.11322770341445958\n",
            "Correlation between Mission Bay and 94111: 1.0\n",
            "Correlation between Mission Bay and 94112: -0.11322770341445958\n",
            "Correlation between Mission Bay and 94114: -0.11322770341445958\n",
            "Correlation between Mission Bay and 94115: -0.1019559237857732\n",
            "Correlation between Mission Bay and 94116: -0.07692307692307694\n",
            "Correlation between Mission Bay and 94117: -0.12403473458920844\n",
            "Correlation between Mission Bay and 94118: -0.1019559237857732\n",
            "Correlation between Mission Bay and 94121: -0.07692307692307694\n",
            "Correlation between Mission Bay and 94122: -0.11322770341445958\n",
            "Correlation between Mission Bay and 94123: -0.07692307692307694\n",
            "Correlation between Mission Bay and 94124: -0.0899842541331695\n",
            "Correlation between Mission Bay and 94127: -0.06201736729460423\n",
            "Correlation between Mission Bay and 94129: -0.04331480818242099\n",
            "Correlation between Mission Bay and 94130: -0.04331480818242099\n",
            "Correlation between Mission Bay and 94131: -0.1019559237857732\n",
            "Correlation between Mission Bay and 94132: -0.0899842541331695\n",
            "Correlation between Mission Bay and 94133: 0.5399055247990171\n",
            "Correlation between Mission Bay and 94134: -0.11322770341445958\n",
            "Correlation between Mission Bay and 94158: -0.07692307692307694\n",
            "Correlation between Hayes Valley and null: -0.06375767130633382\n",
            "Correlation between Hayes Valley and 94102: -0.16666666666666663\n",
            "Correlation between Hayes Valley and 94103: -0.19802950859533486\n",
            "Correlation between Hayes Valley and 94104: -0.09128709291752768\n",
            "Correlation between Hayes Valley and 94105: -0.06375767130633382\n",
            "Correlation between Hayes Valley and 94107: -0.15007505629691603\n",
            "Correlation between Hayes Valley and 94108: -0.11322770341445958\n",
            "Correlation between Hayes Valley and 94109: -0.18257418583505533\n",
            "Correlation between Hayes Valley and 94110: 0.027777777777777794\n",
            "Correlation between Hayes Valley and 94111: -0.11322770341445958\n",
            "Correlation between Hayes Valley and 94112: 1.0\n",
            "Correlation between Hayes Valley and 94114: -0.16666666666666663\n",
            "Correlation between Hayes Valley and 94115: -0.15007505629691603\n",
            "Correlation between Hayes Valley and 94116: 0.15097027121927947\n",
            "Correlation between Hayes Valley and 94117: -0.18257418583505533\n",
            "Correlation between Hayes Valley and 94118: -0.15007505629691603\n",
            "Correlation between Hayes Valley and 94121: -0.11322770341445958\n",
            "Correlation between Hayes Valley and 94122: -0.16666666666666663\n",
            "Correlation between Hayes Valley and 94123: -0.11322770341445958\n",
            "Correlation between Hayes Valley and 94124: 0.09933992677987831\n",
            "Correlation between Hayes Valley and 94127: 0.5477225575051661\n",
            "Correlation between Hayes Valley and 94129: -0.06375767130633382\n",
            "Correlation between Hayes Valley and 94130: -0.06375767130633382\n",
            "Correlation between Hayes Valley and 94131: 0.060030022518766435\n",
            "Correlation between Hayes Valley and 94132: 0.331133089266261\n",
            "Correlation between Hayes Valley and 94133: -0.13245323570650436\n",
            "Correlation between Hayes Valley and 94134: 0.2222222222222222\n",
            "Correlation between Hayes Valley and 94158: -0.11322770341445958\n",
            "Correlation between Financial District/South Beach and null: -0.06375767130633382\n",
            "Correlation between Financial District/South Beach and 94102: 0.027777777777777794\n",
            "Correlation between Financial District/South Beach and 94103: 0.14852213144650117\n",
            "Correlation between Financial District/South Beach and 94104: -0.09128709291752768\n",
            "Correlation between Financial District/South Beach and 94105: -0.06375767130633382\n",
            "Correlation between Financial District/South Beach and 94107: -0.15007505629691603\n",
            "Correlation between Financial District/South Beach and 94108: -0.11322770341445958\n",
            "Correlation between Financial District/South Beach and 94109: -0.18257418583505533\n",
            "Correlation between Financial District/South Beach and 94110: 0.2222222222222222\n",
            "Correlation between Financial District/South Beach and 94111: -0.11322770341445958\n",
            "Correlation between Financial District/South Beach and 94112: -0.16666666666666663\n",
            "Correlation between Financial District/South Beach and 94114: 1.0\n",
            "Correlation between Financial District/South Beach and 94115: -0.15007505629691603\n",
            "Correlation between Financial District/South Beach and 94116: 0.15097027121927947\n",
            "Correlation between Financial District/South Beach and 94117: 0.5477225575051661\n",
            "Correlation between Financial District/South Beach and 94118: -0.15007505629691603\n",
            "Correlation between Financial District/South Beach and 94121: -0.11322770341445958\n",
            "Correlation between Financial District/South Beach and 94122: 0.027777777777777794\n",
            "Correlation between Financial District/South Beach and 94123: -0.11322770341445958\n",
            "Correlation between Financial District/South Beach and 94124: -0.13245323570650436\n",
            "Correlation between Financial District/South Beach and 94127: -0.09128709291752767\n",
            "Correlation between Financial District/South Beach and 94129: -0.06375767130633382\n",
            "Correlation between Financial District/South Beach and 94130: -0.06375767130633382\n",
            "Correlation between Financial District/South Beach and 94131: 0.48024018015013137\n",
            "Correlation between Financial District/South Beach and 94132: -0.13245323570650436\n",
            "Correlation between Financial District/South Beach and 94133: -0.13245323570650436\n",
            "Correlation between Financial District/South Beach and 94134: -0.16666666666666663\n",
            "Correlation between Financial District/South Beach and 94158: -0.11322770341445958\n",
            "Correlation between Lakeshore and null: -0.057410616663949914\n",
            "Correlation between Lakeshore and 94102: 0.060030022518766435\n",
            "Correlation between Lakeshore and 94103: -0.17831573790537303\n",
            "Correlation between Lakeshore and 94104: -0.08219949365267865\n",
            "Correlation between Lakeshore and 94105: -0.057410616663949914\n",
            "Correlation between Lakeshore and 94107: -0.13513513513513511\n",
            "Correlation between Lakeshore and 94108: -0.1019559237857732\n",
            "Correlation between Lakeshore and 94109: 0.4274373669939288\n",
            "Correlation between Lakeshore and 94110: -0.15007505629691603\n",
            "Correlation between Lakeshore and 94111: -0.1019559237857732\n",
            "Correlation between Lakeshore and 94112: -0.15007505629691603\n",
            "Correlation between Lakeshore and 94114: -0.15007505629691603\n",
            "Correlation between Lakeshore and 94115: 1.0\n",
            "Correlation between Lakeshore and 94116: -0.1019559237857732\n",
            "Correlation between Lakeshore and 94117: 0.23015858222750019\n",
            "Correlation between Lakeshore and 94118: 0.31891891891891894\n",
            "Correlation between Lakeshore and 94121: -0.1019559237857732\n",
            "Correlation between Lakeshore and 94122: 0.060030022518766435\n",
            "Correlation between Lakeshore and 94123: 0.1835206628143918\n",
            "Correlation between Lakeshore and 94124: -0.119267560832174\n",
            "Correlation between Lakeshore and 94127: -0.08219949365267863\n",
            "Correlation between Lakeshore and 94129: -0.05741061666394991\n",
            "Correlation between Lakeshore and 94130: -0.05741061666394991\n",
            "Correlation between Lakeshore and 94131: -0.13513513513513511\n",
            "Correlation between Lakeshore and 94132: -0.119267560832174\n",
            "Correlation between Lakeshore and 94133: -0.119267560832174\n",
            "Correlation between Lakeshore and 94134: -0.15007505629691603\n",
            "Correlation between Lakeshore and 94158: -0.1019559237857732\n",
            "Correlation between Bayview Hunters Point and null: -0.043314808182421\n",
            "Correlation between Bayview Hunters Point and 94102: -0.11322770341445958\n",
            "Correlation between Bayview Hunters Point and 94103: -0.13453455879926252\n",
            "Correlation between Bayview Hunters Point and 94104: -0.062017367294604234\n",
            "Correlation between Bayview Hunters Point and 94105: -0.043314808182421\n",
            "Correlation between Bayview Hunters Point and 94107: -0.1019559237857732\n",
            "Correlation between Bayview Hunters Point and 94108: -0.07692307692307694\n",
            "Correlation between Bayview Hunters Point and 94109: -0.12403473458920844\n",
            "Correlation between Bayview Hunters Point and 94110: -0.11322770341445958\n",
            "Correlation between Bayview Hunters Point and 94111: -0.07692307692307694\n",
            "Correlation between Bayview Hunters Point and 94112: 0.15097027121927947\n",
            "Correlation between Bayview Hunters Point and 94114: 0.15097027121927947\n",
            "Correlation between Bayview Hunters Point and 94115: -0.1019559237857732\n",
            "Correlation between Bayview Hunters Point and 94116: 1.0\n",
            "Correlation between Bayview Hunters Point and 94117: 0.12403473458920848\n",
            "Correlation between Bayview Hunters Point and 94118: -0.1019559237857732\n",
            "Correlation between Bayview Hunters Point and 94121: -0.07692307692307694\n",
            "Correlation between Bayview Hunters Point and 94122: 0.41516824585301854\n",
            "Correlation between Bayview Hunters Point and 94123: -0.07692307692307694\n",
            "Correlation between Bayview Hunters Point and 94124: -0.0899842541331695\n",
            "Correlation between Bayview Hunters Point and 94127: 0.37210420376762543\n",
            "Correlation between Bayview Hunters Point and 94129: -0.04331480818242099\n",
            "Correlation between Bayview Hunters Point and 94130: -0.04331480818242099\n",
            "Correlation between Bayview Hunters Point and 94131: 0.4689972494145568\n",
            "Correlation between Bayview Hunters Point and 94132: 0.5399055247990171\n",
            "Correlation between Bayview Hunters Point and 94133: -0.0899842541331695\n",
            "Correlation between Bayview Hunters Point and 94134: -0.11322770341445958\n",
            "Correlation between Bayview Hunters Point and 94158: -0.07692307692307694\n",
            "Correlation between Visitacion Valley and null: -0.0698430295769578\n",
            "Correlation between Visitacion Valley and 94102: 0.18257418583505539\n",
            "Correlation between Visitacion Valley and 94103: 0.10846522890932811\n",
            "Correlation between Visitacion Valley and 94104: -0.09999999999999998\n",
            "Correlation between Visitacion Valley and 94105: -0.0698430295769578\n",
            "Correlation between Visitacion Valley and 94107: -0.16439898730535726\n",
            "Correlation between Visitacion Valley and 94108: -0.12403473458920844\n",
            "Correlation between Visitacion Valley and 94109: -0.028571428571428522\n",
            "Correlation between Visitacion Valley and 94110: 2.5970689554584665e-17\n",
            "Correlation between Visitacion Valley and 94111: -0.12403473458920844\n",
            "Correlation between Visitacion Valley and 94112: -0.18257418583505533\n",
            "Correlation between Visitacion Valley and 94114: 0.5477225575051661\n",
            "Correlation between Visitacion Valley and 94115: 0.23015858222750019\n",
            "Correlation between Visitacion Valley and 94116: 0.12403473458920848\n",
            "Correlation between Visitacion Valley and 94117: 1.0\n",
            "Correlation between Visitacion Valley and 94118: 0.2301585822275002\n",
            "Correlation between Visitacion Valley and 94121: -0.12403473458920844\n",
            "Correlation between Visitacion Valley and 94122: 0.3651483716701107\n",
            "Correlation between Visitacion Valley and 94123: -0.12403473458920844\n",
            "Correlation between Visitacion Valley and 94124: -0.1450952500220023\n",
            "Correlation between Visitacion Valley and 94127: -0.09999999999999998\n",
            "Correlation between Visitacion Valley and 94129: -0.0698430295769578\n",
            "Correlation between Visitacion Valley and 94130: -0.0698430295769578\n",
            "Correlation between Visitacion Valley and 94131: 0.03287979746107149\n",
            "Correlation between Visitacion Valley and 94132: -0.1450952500220023\n",
            "Correlation between Visitacion Valley and 94133: -0.1450952500220023\n",
            "Correlation between Visitacion Valley and 94134: -0.18257418583505533\n",
            "Correlation between Visitacion Valley and 94158: -0.12403473458920844\n",
            "Correlation between Inner Richmond and null: -0.057410616663949914\n",
            "Correlation between Inner Richmond and 94102: -0.15007505629691603\n",
            "Correlation between Inner Richmond and 94103: -0.17831573790537303\n",
            "Correlation between Inner Richmond and 94104: -0.08219949365267865\n",
            "Correlation between Inner Richmond and 94105: -0.057410616663949914\n",
            "Correlation between Inner Richmond and 94107: -0.13513513513513511\n",
            "Correlation between Inner Richmond and 94108: -0.1019559237857732\n",
            "Correlation between Inner Richmond and 94109: -0.16439898730535724\n",
            "Correlation between Inner Richmond and 94110: -0.15007505629691603\n",
            "Correlation between Inner Richmond and 94111: -0.1019559237857732\n",
            "Correlation between Inner Richmond and 94112: -0.15007505629691603\n",
            "Correlation between Inner Richmond and 94114: -0.15007505629691603\n",
            "Correlation between Inner Richmond and 94115: 0.31891891891891894\n",
            "Correlation between Inner Richmond and 94116: -0.1019559237857732\n",
            "Correlation between Inner Richmond and 94117: 0.2301585822275002\n",
            "Correlation between Inner Richmond and 94118: 1.0\n",
            "Correlation between Inner Richmond and 94121: 0.1835206628143918\n",
            "Correlation between Inner Richmond and 94122: 0.6903452589658139\n",
            "Correlation between Inner Richmond and 94123: -0.1019559237857732\n",
            "Correlation between Inner Richmond and 94124: -0.119267560832174\n",
            "Correlation between Inner Richmond and 94127: -0.08219949365267863\n",
            "Correlation between Inner Richmond and 94129: -0.05741061666394991\n",
            "Correlation between Inner Richmond and 94130: -0.05741061666394991\n",
            "Correlation between Inner Richmond and 94131: -0.13513513513513511\n",
            "Correlation between Inner Richmond and 94132: -0.119267560832174\n",
            "Correlation between Inner Richmond and 94133: -0.119267560832174\n",
            "Correlation between Inner Richmond and 94134: -0.15007505629691603\n",
            "Correlation between Inner Richmond and 94158: -0.1019559237857732\n",
            "Correlation between Nob Hill and null: -0.043314808182421\n",
            "Correlation between Nob Hill and 94102: -0.11322770341445958\n",
            "Correlation between Nob Hill and 94103: -0.13453455879926252\n",
            "Correlation between Nob Hill and 94104: -0.062017367294604234\n",
            "Correlation between Nob Hill and 94105: -0.043314808182421\n",
            "Correlation between Nob Hill and 94107: -0.1019559237857732\n",
            "Correlation between Nob Hill and 94108: -0.07692307692307694\n",
            "Correlation between Nob Hill and 94109: -0.12403473458920844\n",
            "Correlation between Nob Hill and 94110: -0.11322770341445958\n",
            "Correlation between Nob Hill and 94111: -0.07692307692307694\n",
            "Correlation between Nob Hill and 94112: -0.11322770341445958\n",
            "Correlation between Nob Hill and 94114: -0.11322770341445958\n",
            "Correlation between Nob Hill and 94115: -0.1019559237857732\n",
            "Correlation between Nob Hill and 94116: -0.07692307692307694\n",
            "Correlation between Nob Hill and 94117: -0.12403473458920844\n",
            "Correlation between Nob Hill and 94118: 0.1835206628143918\n",
            "Correlation between Nob Hill and 94121: 1.0\n",
            "Correlation between Nob Hill and 94122: 0.15097027121927947\n",
            "Correlation between Nob Hill and 94123: -0.07692307692307694\n",
            "Correlation between Nob Hill and 94124: -0.0899842541331695\n",
            "Correlation between Nob Hill and 94127: -0.06201736729460423\n",
            "Correlation between Nob Hill and 94129: -0.04331480818242099\n",
            "Correlation between Nob Hill and 94130: -0.04331480818242099\n",
            "Correlation between Nob Hill and 94131: -0.1019559237857732\n",
            "Correlation between Nob Hill and 94132: -0.0899842541331695\n",
            "Correlation between Nob Hill and 94133: -0.0899842541331695\n",
            "Correlation between Nob Hill and 94134: -0.11322770341445958\n",
            "Correlation between Nob Hill and 94158: -0.07692307692307694\n",
            "Correlation between Oceanview/Merced/Ingleside and null: -0.06375767130633382\n",
            "Correlation between Oceanview/Merced/Ingleside and 94102: -0.16666666666666663\n",
            "Correlation between Oceanview/Merced/Ingleside and 94103: -0.19802950859533486\n",
            "Correlation between Oceanview/Merced/Ingleside and 94104: -0.09128709291752768\n",
            "Correlation between Oceanview/Merced/Ingleside and 94105: -0.06375767130633382\n",
            "Correlation between Oceanview/Merced/Ingleside and 94107: -0.15007505629691603\n",
            "Correlation between Oceanview/Merced/Ingleside and 94108: -0.11322770341445958\n",
            "Correlation between Oceanview/Merced/Ingleside and 94109: -0.18257418583505533\n",
            "Correlation between Oceanview/Merced/Ingleside and 94110: -0.16666666666666663\n",
            "Correlation between Oceanview/Merced/Ingleside and 94111: -0.11322770341445958\n",
            "Correlation between Oceanview/Merced/Ingleside and 94112: -0.16666666666666663\n",
            "Correlation between Oceanview/Merced/Ingleside and 94114: 0.027777777777777794\n",
            "Correlation between Oceanview/Merced/Ingleside and 94115: 0.060030022518766435\n",
            "Correlation between Oceanview/Merced/Ingleside and 94116: 0.41516824585301854\n",
            "Correlation between Oceanview/Merced/Ingleside and 94117: 0.3651483716701107\n",
            "Correlation between Oceanview/Merced/Ingleside and 94118: 0.6903452589658139\n",
            "Correlation between Oceanview/Merced/Ingleside and 94121: 0.15097027121927947\n",
            "Correlation between Oceanview/Merced/Ingleside and 94122: 1.0\n",
            "Correlation between Oceanview/Merced/Ingleside and 94123: -0.11322770341445958\n",
            "Correlation between Oceanview/Merced/Ingleside and 94124: -0.13245323570650436\n",
            "Correlation between Oceanview/Merced/Ingleside and 94127: -0.09128709291752767\n",
            "Correlation between Oceanview/Merced/Ingleside and 94129: -0.06375767130633382\n",
            "Correlation between Oceanview/Merced/Ingleside and 94130: -0.06375767130633382\n",
            "Correlation between Oceanview/Merced/Ingleside and 94131: 0.060030022518766435\n",
            "Correlation between Oceanview/Merced/Ingleside and 94132: 0.09933992677987831\n",
            "Correlation between Oceanview/Merced/Ingleside and 94133: -0.13245323570650436\n",
            "Correlation between Oceanview/Merced/Ingleside and 94134: -0.16666666666666663\n",
            "Correlation between Oceanview/Merced/Ingleside and 94158: -0.11322770341445958\n",
            "Correlation between Outer Richmond and null: -0.043314808182421\n",
            "Correlation between Outer Richmond and 94102: -0.11322770341445958\n",
            "Correlation between Outer Richmond and 94103: -0.13453455879926252\n",
            "Correlation between Outer Richmond and 94104: -0.062017367294604234\n",
            "Correlation between Outer Richmond and 94105: -0.043314808182421\n",
            "Correlation between Outer Richmond and 94107: -0.1019559237857732\n",
            "Correlation between Outer Richmond and 94108: -0.07692307692307694\n",
            "Correlation between Outer Richmond and 94109: 0.37210420376762543\n",
            "Correlation between Outer Richmond and 94110: -0.11322770341445958\n",
            "Correlation between Outer Richmond and 94111: -0.07692307692307694\n",
            "Correlation between Outer Richmond and 94112: -0.11322770341445958\n",
            "Correlation between Outer Richmond and 94114: -0.11322770341445958\n",
            "Correlation between Outer Richmond and 94115: 0.1835206628143918\n",
            "Correlation between Outer Richmond and 94116: -0.07692307692307694\n",
            "Correlation between Outer Richmond and 94117: -0.12403473458920844\n",
            "Correlation between Outer Richmond and 94118: -0.1019559237857732\n",
            "Correlation between Outer Richmond and 94121: -0.07692307692307694\n",
            "Correlation between Outer Richmond and 94122: -0.11322770341445958\n",
            "Correlation between Outer Richmond and 94123: 1.0\n",
            "Correlation between Outer Richmond and 94124: -0.0899842541331695\n",
            "Correlation between Outer Richmond and 94127: -0.06201736729460423\n",
            "Correlation between Outer Richmond and 94129: 0.563092506371473\n",
            "Correlation between Outer Richmond and 94130: -0.04331480818242099\n",
            "Correlation between Outer Richmond and 94131: -0.1019559237857732\n",
            "Correlation between Outer Richmond and 94132: -0.0899842541331695\n",
            "Correlation between Outer Richmond and 94133: -0.0899842541331695\n",
            "Correlation between Outer Richmond and 94134: -0.11322770341445958\n",
            "Correlation between Outer Richmond and 94158: -0.07692307692307694\n",
            "Correlation between Treasure Island and null: 0.48135986234123296\n",
            "Correlation between Treasure Island and 94102: -0.13245323570650436\n",
            "Correlation between Treasure Island and 94103: -0.15737789507292677\n",
            "Correlation between Treasure Island and 94104: -0.07254762501100118\n",
            "Correlation between Treasure Island and 94105: -0.050669459193814\n",
            "Correlation between Treasure Island and 94107: 0.13119431691539143\n",
            "Correlation between Treasure Island and 94108: -0.0899842541331695\n",
            "Correlation between Treasure Island and 94109: -0.1450952500220023\n",
            "Correlation between Treasure Island and 94110: 0.09933992677987831\n",
            "Correlation between Treasure Island and 94111: -0.0899842541331695\n",
            "Correlation between Treasure Island and 94112: 0.09933992677987831\n",
            "Correlation between Treasure Island and 94114: -0.13245323570650436\n",
            "Correlation between Treasure Island and 94115: -0.119267560832174\n",
            "Correlation between Treasure Island and 94116: -0.0899842541331695\n",
            "Correlation between Treasure Island and 94117: -0.1450952500220023\n",
            "Correlation between Treasure Island and 94118: -0.119267560832174\n",
            "Correlation between Treasure Island and 94121: -0.0899842541331695\n",
            "Correlation between Treasure Island and 94122: -0.13245323570650436\n",
            "Correlation between Treasure Island and 94123: -0.0899842541331695\n",
            "Correlation between Treasure Island and 94124: 1.0\n",
            "Correlation between Treasure Island and 94127: -0.07254762501100118\n",
            "Correlation between Treasure Island and 94129: -0.050669459193814\n",
            "Correlation between Treasure Island and 94130: -0.050669459193814\n",
            "Correlation between Treasure Island and 94131: -0.11926756083217402\n",
            "Correlation between Treasure Island and 94132: -0.10526315789473686\n",
            "Correlation between Treasure Island and 94133: -0.10526315789473686\n",
            "Correlation between Treasure Island and 94134: 0.5629262517526437\n",
            "Correlation between Treasure Island and 94158: 0.22496063533292382\n",
            "Correlation between Chinatown and null: -0.03492151478847891\n",
            "Correlation between Chinatown and 94102: -0.09128709291752767\n",
            "Correlation between Chinatown and 94103: -0.10846522890932808\n",
            "Correlation between Chinatown and 94104: -0.05\n",
            "Correlation between Chinatown and 94105: -0.03492151478847891\n",
            "Correlation between Chinatown and 94107: -0.08219949365267863\n",
            "Correlation between Chinatown and 94108: -0.06201736729460423\n",
            "Correlation between Chinatown and 94109: -0.09999999999999998\n",
            "Correlation between Chinatown and 94110: -0.09128709291752767\n",
            "Correlation between Chinatown and 94111: -0.06201736729460423\n",
            "Correlation between Chinatown and 94112: 0.5477225575051661\n",
            "Correlation between Chinatown and 94114: -0.09128709291752767\n",
            "Correlation between Chinatown and 94115: -0.08219949365267863\n",
            "Correlation between Chinatown and 94116: 0.37210420376762543\n",
            "Correlation between Chinatown and 94117: -0.09999999999999998\n",
            "Correlation between Chinatown and 94118: -0.08219949365267863\n",
            "Correlation between Chinatown and 94121: -0.06201736729460423\n",
            "Correlation between Chinatown and 94122: -0.09128709291752767\n",
            "Correlation between Chinatown and 94123: -0.06201736729460423\n",
            "Correlation between Chinatown and 94124: -0.07254762501100118\n",
            "Correlation between Chinatown and 94127: 1.0\n",
            "Correlation between Chinatown and 94129: -0.03492151478847891\n",
            "Correlation between Chinatown and 94130: -0.03492151478847891\n",
            "Correlation between Chinatown and 94131: 0.2630383796885717\n",
            "Correlation between Chinatown and 94132: 0.689202437604511\n",
            "Correlation between Chinatown and 94133: -0.07254762501100118\n",
            "Correlation between Chinatown and 94134: -0.09128709291752768\n",
            "Correlation between Chinatown and 94158: -0.062017367294604234\n",
            "Correlation between Mission and null: -0.024390243902439022\n",
            "Correlation between Mission and 94102: -0.06375767130633382\n",
            "Correlation between Mission and 94103: -0.07575540190785703\n",
            "Correlation between Mission and 94104: -0.03492151478847891\n",
            "Correlation between Mission and 94105: -0.024390243902439022\n",
            "Correlation between Mission and 94107: -0.05741061666394991\n",
            "Correlation between Mission and 94108: -0.04331480818242099\n",
            "Correlation between Mission and 94109: -0.0698430295769578\n",
            "Correlation between Mission and 94110: -0.06375767130633382\n",
            "Correlation between Mission and 94111: -0.04331480818242099\n",
            "Correlation between Mission and 94112: -0.06375767130633382\n",
            "Correlation between Mission and 94114: -0.06375767130633382\n",
            "Correlation between Mission and 94115: -0.05741061666394991\n",
            "Correlation between Mission and 94116: -0.04331480818242099\n",
            "Correlation between Mission and 94117: -0.0698430295769578\n",
            "Correlation between Mission and 94118: -0.05741061666394991\n",
            "Correlation between Mission and 94121: -0.04331480818242099\n",
            "Correlation between Mission and 94122: -0.06375767130633382\n",
            "Correlation between Mission and 94123: 0.563092506371473\n",
            "Correlation between Mission and 94124: -0.050669459193814\n",
            "Correlation between Mission and 94127: -0.03492151478847891\n",
            "Correlation between Mission and 94129: 1.0\n",
            "Correlation between Mission and 94130: -0.024390243902439022\n",
            "Correlation between Mission and 94131: -0.057410616663949914\n",
            "Correlation between Mission and 94132: -0.050669459193814\n",
            "Correlation between Mission and 94133: -0.050669459193814\n",
            "Correlation between Mission and 94134: -0.06375767130633382\n",
            "Correlation between Mission and 94158: -0.043314808182421\n",
            "Correlation between Excelsior and null: -0.024390243902439022\n",
            "Correlation between Excelsior and 94102: -0.06375767130633382\n",
            "Correlation between Excelsior and 94103: -0.07575540190785703\n",
            "Correlation between Excelsior and 94104: -0.03492151478847891\n",
            "Correlation between Excelsior and 94105: -0.024390243902439022\n",
            "Correlation between Excelsior and 94107: -0.05741061666394991\n",
            "Correlation between Excelsior and 94108: -0.04331480818242099\n",
            "Correlation between Excelsior and 94109: -0.0698430295769578\n",
            "Correlation between Excelsior and 94110: -0.06375767130633382\n",
            "Correlation between Excelsior and 94111: -0.04331480818242099\n",
            "Correlation between Excelsior and 94112: -0.06375767130633382\n",
            "Correlation between Excelsior and 94114: -0.06375767130633382\n",
            "Correlation between Excelsior and 94115: -0.05741061666394991\n",
            "Correlation between Excelsior and 94116: -0.04331480818242099\n",
            "Correlation between Excelsior and 94117: -0.0698430295769578\n",
            "Correlation between Excelsior and 94118: -0.05741061666394991\n",
            "Correlation between Excelsior and 94121: -0.04331480818242099\n",
            "Correlation between Excelsior and 94122: -0.06375767130633382\n",
            "Correlation between Excelsior and 94123: -0.04331480818242099\n",
            "Correlation between Excelsior and 94124: -0.050669459193814\n",
            "Correlation between Excelsior and 94127: -0.03492151478847891\n",
            "Correlation between Excelsior and 94129: -0.024390243902439022\n",
            "Correlation between Excelsior and 94130: 1.0\n",
            "Correlation between Excelsior and 94131: -0.057410616663949914\n",
            "Correlation between Excelsior and 94132: -0.050669459193814\n",
            "Correlation between Excelsior and 94133: -0.050669459193814\n",
            "Correlation between Excelsior and 94134: -0.06375767130633382\n",
            "Correlation between Excelsior and 94158: -0.043314808182421\n",
            "Correlation between Twin Peaks and null: -0.057410616663949914\n",
            "Correlation between Twin Peaks and 94102: -0.15007505629691603\n",
            "Correlation between Twin Peaks and 94103: -0.17831573790537303\n",
            "Correlation between Twin Peaks and 94104: -0.08219949365267865\n",
            "Correlation between Twin Peaks and 94105: -0.057410616663949914\n",
            "Correlation between Twin Peaks and 94107: -0.13513513513513511\n",
            "Correlation between Twin Peaks and 94108: -0.1019559237857732\n",
            "Correlation between Twin Peaks and 94109: -0.16439898730535724\n",
            "Correlation between Twin Peaks and 94110: 0.27013510133444896\n",
            "Correlation between Twin Peaks and 94111: -0.1019559237857732\n",
            "Correlation between Twin Peaks and 94112: 0.060030022518766435\n",
            "Correlation between Twin Peaks and 94114: 0.48024018015013137\n",
            "Correlation between Twin Peaks and 94115: -0.13513513513513511\n",
            "Correlation between Twin Peaks and 94116: 0.4689972494145568\n",
            "Correlation between Twin Peaks and 94117: 0.03287979746107149\n",
            "Correlation between Twin Peaks and 94118: -0.13513513513513511\n",
            "Correlation between Twin Peaks and 94121: -0.1019559237857732\n",
            "Correlation between Twin Peaks and 94122: 0.060030022518766435\n",
            "Correlation between Twin Peaks and 94123: -0.1019559237857732\n",
            "Correlation between Twin Peaks and 94124: -0.11926756083217402\n",
            "Correlation between Twin Peaks and 94127: 0.2630383796885717\n",
            "Correlation between Twin Peaks and 94129: -0.057410616663949914\n",
            "Correlation between Twin Peaks and 94130: -0.057410616663949914\n",
            "Correlation between Twin Peaks and 94131: 1.0\n",
            "Correlation between Twin Peaks and 94132: 0.13119431691539143\n",
            "Correlation between Twin Peaks and 94133: -0.119267560832174\n",
            "Correlation between Twin Peaks and 94134: -0.15007505629691603\n",
            "Correlation between Twin Peaks and 94158: -0.1019559237857732\n",
            "Correlation between Seacliff and null: -0.050669459193814\n",
            "Correlation between Seacliff and 94102: -0.13245323570650436\n",
            "Correlation between Seacliff and 94103: -0.15737789507292677\n",
            "Correlation between Seacliff and 94104: -0.07254762501100118\n",
            "Correlation between Seacliff and 94105: -0.050669459193814\n",
            "Correlation between Seacliff and 94107: -0.119267560832174\n",
            "Correlation between Seacliff and 94108: -0.0899842541331695\n",
            "Correlation between Seacliff and 94109: -0.1450952500220023\n",
            "Correlation between Seacliff and 94110: -0.13245323570650436\n",
            "Correlation between Seacliff and 94111: -0.0899842541331695\n",
            "Correlation between Seacliff and 94112: 0.331133089266261\n",
            "Correlation between Seacliff and 94114: -0.13245323570650436\n",
            "Correlation between Seacliff and 94115: -0.119267560832174\n",
            "Correlation between Seacliff and 94116: 0.5399055247990171\n",
            "Correlation between Seacliff and 94117: -0.1450952500220023\n",
            "Correlation between Seacliff and 94118: -0.119267560832174\n",
            "Correlation between Seacliff and 94121: -0.0899842541331695\n",
            "Correlation between Seacliff and 94122: 0.09933992677987831\n",
            "Correlation between Seacliff and 94123: -0.0899842541331695\n",
            "Correlation between Seacliff and 94124: -0.10526315789473686\n",
            "Correlation between Seacliff and 94127: 0.689202437604511\n",
            "Correlation between Seacliff and 94129: -0.050669459193814\n",
            "Correlation between Seacliff and 94130: -0.050669459193814\n",
            "Correlation between Seacliff and 94131: 0.13119431691539143\n",
            "Correlation between Seacliff and 94132: 1.0\n",
            "Correlation between Seacliff and 94133: -0.10526315789473686\n",
            "Correlation between Seacliff and 94134: -0.13245323570650439\n",
            "Correlation between Seacliff and 94158: -0.08998425413316952\n",
            "Correlation between Sunset/Parkside and null: -0.050669459193814\n",
            "Correlation between Sunset/Parkside and 94102: 0.09933992677987831\n",
            "Correlation between Sunset/Parkside and 94103: -0.15737789507292677\n",
            "Correlation between Sunset/Parkside and 94104: 0.308327406296755\n",
            "Correlation between Sunset/Parkside and 94105: -0.050669459193814\n",
            "Correlation between Sunset/Parkside and 94107: -0.119267560832174\n",
            "Correlation between Sunset/Parkside and 94108: 0.5399055247990171\n",
            "Correlation between Sunset/Parkside and 94109: 0.29019050004400465\n",
            "Correlation between Sunset/Parkside and 94110: -0.13245323570650436\n",
            "Correlation between Sunset/Parkside and 94111: 0.5399055247990171\n",
            "Correlation between Sunset/Parkside and 94112: -0.13245323570650436\n",
            "Correlation between Sunset/Parkside and 94114: -0.13245323570650436\n",
            "Correlation between Sunset/Parkside and 94115: -0.119267560832174\n",
            "Correlation between Sunset/Parkside and 94116: -0.0899842541331695\n",
            "Correlation between Sunset/Parkside and 94117: -0.1450952500220023\n",
            "Correlation between Sunset/Parkside and 94118: -0.119267560832174\n",
            "Correlation between Sunset/Parkside and 94121: -0.0899842541331695\n",
            "Correlation between Sunset/Parkside and 94122: -0.13245323570650436\n",
            "Correlation between Sunset/Parkside and 94123: -0.0899842541331695\n",
            "Correlation between Sunset/Parkside and 94124: -0.10526315789473686\n",
            "Correlation between Sunset/Parkside and 94127: -0.07254762501100118\n",
            "Correlation between Sunset/Parkside and 94129: -0.050669459193814\n",
            "Correlation between Sunset/Parkside and 94130: -0.050669459193814\n",
            "Correlation between Sunset/Parkside and 94131: -0.119267560832174\n",
            "Correlation between Sunset/Parkside and 94132: -0.10526315789473686\n",
            "Correlation between Sunset/Parkside and 94133: 1.0\n",
            "Correlation between Sunset/Parkside and 94134: -0.13245323570650439\n",
            "Correlation between Sunset/Parkside and 94158: -0.08998425413316952\n",
            "Correlation between Presidio Heights and null: 0.38254602783800296\n",
            "Correlation between Presidio Heights and 94102: -0.16666666666666663\n",
            "Correlation between Presidio Heights and 94103: -0.19802950859533486\n",
            "Correlation between Presidio Heights and 94104: -0.09128709291752768\n",
            "Correlation between Presidio Heights and 94105: -0.06375767130633382\n",
            "Correlation between Presidio Heights and 94107: 0.060030022518766435\n",
            "Correlation between Presidio Heights and 94108: -0.11322770341445958\n",
            "Correlation between Presidio Heights and 94109: -0.18257418583505533\n",
            "Correlation between Presidio Heights and 94110: -0.16666666666666663\n",
            "Correlation between Presidio Heights and 94111: -0.11322770341445958\n",
            "Correlation between Presidio Heights and 94112: 0.2222222222222222\n",
            "Correlation between Presidio Heights and 94114: -0.16666666666666663\n",
            "Correlation between Presidio Heights and 94115: -0.15007505629691603\n",
            "Correlation between Presidio Heights and 94116: -0.11322770341445958\n",
            "Correlation between Presidio Heights and 94117: -0.18257418583505533\n",
            "Correlation between Presidio Heights and 94118: -0.15007505629691603\n",
            "Correlation between Presidio Heights and 94121: -0.11322770341445958\n",
            "Correlation between Presidio Heights and 94122: -0.16666666666666663\n",
            "Correlation between Presidio Heights and 94123: -0.11322770341445958\n",
            "Correlation between Presidio Heights and 94124: 0.5629262517526437\n",
            "Correlation between Presidio Heights and 94127: -0.09128709291752768\n",
            "Correlation between Presidio Heights and 94129: -0.06375767130633382\n",
            "Correlation between Presidio Heights and 94130: -0.06375767130633382\n",
            "Correlation between Presidio Heights and 94131: -0.15007505629691603\n",
            "Correlation between Presidio Heights and 94132: -0.13245323570650439\n",
            "Correlation between Presidio Heights and 94133: -0.13245323570650439\n",
            "Correlation between Presidio Heights and 94134: 1.0\n",
            "Correlation between Presidio Heights and 94158: 0.15097027121927947\n",
            "Correlation between Portola and null: 0.563092506371473\n",
            "Correlation between Portola and 94102: -0.11322770341445958\n",
            "Correlation between Portola and 94103: 0.3363363969981563\n",
            "Correlation between Portola and 94104: -0.062017367294604234\n",
            "Correlation between Portola and 94105: -0.043314808182421\n",
            "Correlation between Portola and 94107: 0.4689972494145568\n",
            "Correlation between Portola and 94108: -0.07692307692307694\n",
            "Correlation between Portola and 94109: -0.12403473458920844\n",
            "Correlation between Portola and 94110: 0.15097027121927947\n",
            "Correlation between Portola and 94111: -0.07692307692307694\n",
            "Correlation between Portola and 94112: -0.11322770341445958\n",
            "Correlation between Portola and 94114: -0.11322770341445958\n",
            "Correlation between Portola and 94115: -0.1019559237857732\n",
            "Correlation between Portola and 94116: -0.07692307692307694\n",
            "Correlation between Portola and 94117: -0.12403473458920844\n",
            "Correlation between Portola and 94118: -0.1019559237857732\n",
            "Correlation between Portola and 94121: -0.07692307692307694\n",
            "Correlation between Portola and 94122: -0.11322770341445958\n",
            "Correlation between Portola and 94123: -0.07692307692307694\n",
            "Correlation between Portola and 94124: 0.22496063533292382\n",
            "Correlation between Portola and 94127: -0.062017367294604234\n",
            "Correlation between Portola and 94129: -0.043314808182421\n",
            "Correlation between Portola and 94130: -0.043314808182421\n",
            "Correlation between Portola and 94131: -0.1019559237857732\n",
            "Correlation between Portola and 94132: -0.08998425413316952\n",
            "Correlation between Portola and 94133: -0.08998425413316952\n",
            "Correlation between Portola and 94134: 0.15097027121927947\n",
            "Correlation between Portola and 94158: 1.0\n"
          ]
        },
        {
          "output_type": "error",
          "ename": "IndexError",
          "evalue": "ignored",
          "traceback": [
            "\u001b[0;31m---------------------------------------------------------------------------\u001b[0m",
            "\u001b[0;31mIndexError\u001b[0m                                Traceback (most recent call last)",
            "\u001b[0;32m<ipython-input-37-a6712f31dd09>\u001b[0m in \u001b[0;36m<cell line: 15>\u001b[0;34m()\u001b[0m\n\u001b[1;32m     15\u001b[0m \u001b[0;32mfor\u001b[0m \u001b[0mi\u001b[0m\u001b[0;34m,\u001b[0m \u001b[0mneighborhood\u001b[0m \u001b[0;32min\u001b[0m \u001b[0menumerate\u001b[0m\u001b[0;34m(\u001b[0m\u001b[0mpivoted_data\u001b[0m\u001b[0;34m.\u001b[0m\u001b[0mselect\u001b[0m\u001b[0;34m(\u001b[0m\u001b[0;34m'Neighborhood'\u001b[0m\u001b[0;34m)\u001b[0m\u001b[0;34m.\u001b[0m\u001b[0mrdd\u001b[0m\u001b[0;34m.\u001b[0m\u001b[0mmap\u001b[0m\u001b[0;34m(\u001b[0m\u001b[0;32mlambda\u001b[0m \u001b[0mx\u001b[0m\u001b[0;34m:\u001b[0m \u001b[0mx\u001b[0m\u001b[0;34m[\u001b[0m\u001b[0;36m0\u001b[0m\u001b[0;34m]\u001b[0m\u001b[0;34m)\u001b[0m\u001b[0;34m.\u001b[0m\u001b[0mcollect\u001b[0m\u001b[0;34m(\u001b[0m\u001b[0;34m)\u001b[0m\u001b[0;34m)\u001b[0m\u001b[0;34m:\u001b[0m\u001b[0;34m\u001b[0m\u001b[0;34m\u001b[0m\u001b[0m\n\u001b[1;32m     16\u001b[0m     \u001b[0;32mfor\u001b[0m \u001b[0mj\u001b[0m\u001b[0;34m,\u001b[0m \u001b[0mzip_code\u001b[0m \u001b[0;32min\u001b[0m \u001b[0menumerate\u001b[0m\u001b[0;34m(\u001b[0m\u001b[0mpivoted_data\u001b[0m\u001b[0;34m.\u001b[0m\u001b[0mcolumns\u001b[0m\u001b[0;34m[\u001b[0m\u001b[0;36m1\u001b[0m\u001b[0;34m:\u001b[0m\u001b[0;34m]\u001b[0m\u001b[0;34m)\u001b[0m\u001b[0;34m:\u001b[0m\u001b[0;34m\u001b[0m\u001b[0;34m\u001b[0m\u001b[0m\n\u001b[0;32m---> 17\u001b[0;31m         \u001b[0mcorrelation\u001b[0m \u001b[0;34m=\u001b[0m \u001b[0mcorrelation_array\u001b[0m\u001b[0;34m[\u001b[0m\u001b[0mi\u001b[0m\u001b[0;34m]\u001b[0m\u001b[0;34m[\u001b[0m\u001b[0mj\u001b[0m\u001b[0;34m]\u001b[0m\u001b[0;34m\u001b[0m\u001b[0;34m\u001b[0m\u001b[0m\n\u001b[0m\u001b[1;32m     18\u001b[0m         \u001b[0mprint\u001b[0m\u001b[0;34m(\u001b[0m\u001b[0;34mf\"Correlation between {neighborhood} and {zip_code}: {correlation}\"\u001b[0m\u001b[0;34m)\u001b[0m\u001b[0;34m\u001b[0m\u001b[0;34m\u001b[0m\u001b[0m\n",
            "\u001b[0;31mIndexError\u001b[0m: index 28 is out of bounds for axis 0 with size 28"
          ]
        }
      ]
    },
    {
      "cell_type": "code",
      "source": [],
      "metadata": {
        "id": "0oqSh164jUsj"
      },
      "execution_count": null,
      "outputs": []
    },
    {
      "cell_type": "code",
      "source": [],
      "metadata": {
        "id": "F7d_8fjMjUpE"
      },
      "execution_count": null,
      "outputs": []
    },
    {
      "cell_type": "code",
      "source": [],
      "metadata": {
        "id": "Nm7kmPKsjUmC"
      },
      "execution_count": null,
      "outputs": []
    },
    {
      "cell_type": "code",
      "source": [],
      "metadata": {
        "id": "rTL6moSTjUjQ"
      },
      "execution_count": null,
      "outputs": []
    },
    {
      "cell_type": "code",
      "source": [],
      "metadata": {
        "id": "E2apv_hLjUgu"
      },
      "execution_count": null,
      "outputs": []
    },
    {
      "cell_type": "code",
      "source": [],
      "metadata": {
        "id": "1qgxh4c6jUeg"
      },
      "execution_count": null,
      "outputs": []
    },
    {
      "cell_type": "code",
      "source": [],
      "metadata": {
        "id": "9xaH_KPQjUZ7"
      },
      "execution_count": null,
      "outputs": []
    }
  ]
}