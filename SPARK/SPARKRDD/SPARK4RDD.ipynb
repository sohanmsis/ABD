{
  "nbformat": 4,
  "nbformat_minor": 0,
  "metadata": {
    "colab": {
      "provenance": []
    },
    "kernelspec": {
      "name": "python3",
      "display_name": "Python 3"
    },
    "language_info": {
      "name": "python"
    }
  },
  "cells": [
    {
      "cell_type": "code",
      "execution_count": 1,
      "metadata": {
        "colab": {
          "base_uri": "https://localhost:8080/"
        },
        "id": "QyDYFNFNgIJ6",
        "outputId": "c5af5aad-f38b-44cc-e19a-526d4b233041"
      },
      "outputs": [
        {
          "output_type": "stream",
          "name": "stdout",
          "text": [
            "Collecting pyspark\n",
            "  Downloading pyspark-3.5.0.tar.gz (316.9 MB)\n",
            "\u001b[2K     \u001b[90m━━━━━━━━━━━━━━━━━━━━━━━━━━━━━━━━━━━━━━━━\u001b[0m \u001b[32m316.9/316.9 MB\u001b[0m \u001b[31m3.9 MB/s\u001b[0m eta \u001b[36m0:00:00\u001b[0m\n",
            "\u001b[?25h  Preparing metadata (setup.py) ... \u001b[?25l\u001b[?25hdone\n",
            "Requirement already satisfied: py4j==0.10.9.7 in /usr/local/lib/python3.10/dist-packages (from pyspark) (0.10.9.7)\n",
            "Building wheels for collected packages: pyspark\n",
            "  Building wheel for pyspark (setup.py) ... \u001b[?25l\u001b[?25hdone\n",
            "  Created wheel for pyspark: filename=pyspark-3.5.0-py2.py3-none-any.whl size=317425344 sha256=ecfa26c1e2368b0f5ff0699534ae2fb3bfa9e9dfaf5a11240d2150bc9358748c\n",
            "  Stored in directory: /root/.cache/pip/wheels/41/4e/10/c2cf2467f71c678cfc8a6b9ac9241e5e44a01940da8fbb17fc\n",
            "Successfully built pyspark\n",
            "Installing collected packages: pyspark\n",
            "Successfully installed pyspark-3.5.0\n"
          ]
        }
      ],
      "source": [
        "!pip install pyspark"
      ]
    },
    {
      "cell_type": "code",
      "source": [
        "import pyspark\n",
        "from pyspark.sql import SparkSession\n",
        "spark=SparkSession.builder.appName(\"spark\").getOrCreate()"
      ],
      "metadata": {
        "id": "mWazrtaTgPzs"
      },
      "execution_count": 2,
      "outputs": []
    },
    {
      "cell_type": "code",
      "source": [
        "from google.colab import drive\n",
        "drive.mount('/content/drive/')\n",
        "bank=spark.sparkContext.textFile(\"bank.txt\")"
      ],
      "metadata": {
        "colab": {
          "base_uri": "https://localhost:8080/"
        },
        "id": "rkzkLDz8gPxR",
        "outputId": "c789a2d8-efe1-4e3a-b04d-d830915734c3"
      },
      "execution_count": 3,
      "outputs": [
        {
          "output_type": "stream",
          "name": "stdout",
          "text": [
            "Mounted at /content/drive/\n"
          ]
        }
      ]
    },
    {
      "cell_type": "code",
      "source": [
        "bank.collect()"
      ],
      "metadata": {
        "colab": {
          "base_uri": "https://localhost:8080/"
        },
        "id": "nSKTHPbJgPtb",
        "outputId": "9de8a3c6-1aa8-45bb-9fb0-f3cc076ddafc"
      },
      "execution_count": 4,
      "outputs": [
        {
          "output_type": "execute_result",
          "data": {
            "text/plain": [
              "['SBI00042\\t123876122\\t23-10-2021\\tC\\t250',\n",
              " 'SBI00042\\t123876122\\t23-10-2021\\tD\\t250',\n",
              " 'SBI00042\\t123876122\\t23-10-2021\\tC\\t250',\n",
              " 'SBI00042\\t123872822\\t23-10-2021\\tC\\t1250',\n",
              " 'SBI00042\\t123876122\\t23-10-2021\\tD\\t250',\n",
              " 'SBI00042\\t123823822\\t23-10-2021\\tC\\t10250',\n",
              " 'SBI00042\\t123876171\\t23-10-2021\\tD\\t25000',\n",
              " 'SBI00042\\t123872322\\t23-10-2021\\tC\\t12500',\n",
              " 'SBI00042\\t123876142\\t23-10-2021\\tD\\t2500',\n",
              " 'SBI00042\\t123872829\\t23-10-2021\\tC\\t100',\n",
              " 'CAN00123\\t720127541\\t03-1-2010\\tC\\t250',\n",
              " 'CAN00123\\t123872822\\t23-10-2021\\tC\\t1250',\n",
              " 'CAN00123\\t123876122\\t23-10-2019\\tD\\t250',\n",
              " 'CAN00123\\t123456789\\t23-11-2020\\tC\\t10250',\n",
              " 'CAN00123\\t123456789\\t23-12-2020\\tC\\t10250',\n",
              " 'CAN00123\\t123456789\\t23-10-2020\\tC\\t10250',\n",
              " 'CAN00123\\t123876171\\t13-10-2005\\tD\\t25000',\n",
              " 'SBI00042\\t123872322\\t15-11-2012\\tC\\t12500',\n",
              " 'SBI00042\\t123876142\\t06-01-2006\\tD\\t2500',\n",
              " 'SBI00042\\t123872829\\t30-11-2001\\tC\\t10000',\n",
              " 'SBI00042\\t123872829\\t30-07-2001\\tC\\t10000',\n",
              " 'SBI00042\\t123872829\\t30-01-2001\\tC\\t10000',\n",
              " 'ICI00072\\t123823122\\t23-10-2021\\tC\\t250',\n",
              " 'ICI00072\\t123809822\\t23-10-2021\\tC\\t1250',\n",
              " 'ICI00072\\t123376422\\t23-10-2021\\tD\\t250',\n",
              " 'ICI00072\\t123822322\\t23-10-2021\\tC\\t10250',\n",
              " 'ICI00072\\t123802671\\t23-10-2021\\tD\\t25000',\n",
              " 'ICI00072\\t123830822\\t23-10-2021\\tC\\t12500',\n",
              " 'SBI00042\\t123876142\\t11-04-2000\\tD\\t2500',\n",
              " 'SBI00042\\t123872829\\t21-07-2002\\tC\\t100',\n",
              " 'CAN00123\\t720127541\\t03-1-2010\\tC\\t250',\n",
              " 'CAN00123\\t123456789\\t03-10-2011\\tC\\t51250',\n",
              " 'CAN00123\\t123876122\\t06-08-2015\\tD\\t250',\n",
              " 'CAN00123\\t123823822\\t23-10-2020\\tC\\t10250',\n",
              " 'CAN00123\\t123456789\\t13-10-2005\\tD\\t25000',\n",
              " 'SBI00042\\t123872322\\t15-11-2012\\tC\\t12500',\n",
              " 'SBI00042\\t123876142\\t06-01-2006\\tD\\t2500',\n",
              " 'SBI00042\\t123872829\\t30-01-2001\\tC\\t10000']"
            ]
          },
          "metadata": {},
          "execution_count": 4
        }
      ]
    },
    {
      "cell_type": "code",
      "source": [
        "#Count unique number of customers\n",
        "bank.map(lambda d:d.split('\\t')[1]).distinct().count()"
      ],
      "metadata": {
        "colab": {
          "base_uri": "https://localhost:8080/"
        },
        "id": "-loY_WFggPqn",
        "outputId": "65bc80c2-5ba9-4acc-fa13-e0b4025421df"
      },
      "execution_count": 5,
      "outputs": [
        {
          "output_type": "execute_result",
          "data": {
            "text/plain": [
              "15"
            ]
          },
          "metadata": {},
          "execution_count": 5
        }
      ]
    },
    {
      "cell_type": "code",
      "source": [
        "#Count unique number of Bank ID\n",
        "bank.map(lambda d:d.split('\\t')[0]).distinct().count()"
      ],
      "metadata": {
        "colab": {
          "base_uri": "https://localhost:8080/"
        },
        "id": "jBT5YsVEghQO",
        "outputId": "f5be5753-451f-4d17-e548-1e31484818f2"
      },
      "execution_count": 6,
      "outputs": [
        {
          "output_type": "execute_result",
          "data": {
            "text/plain": [
              "3"
            ]
          },
          "metadata": {},
          "execution_count": 6
        }
      ]
    },
    {
      "cell_type": "code",
      "source": [
        "#Number of transactions for given Account Number\n",
        "bank.map(lambda d:(d.split('\\t')[1],1)).reduceByKey(lambda a,b:a+b).collect()"
      ],
      "metadata": {
        "colab": {
          "base_uri": "https://localhost:8080/"
        },
        "id": "_OBCGXHVghLI",
        "outputId": "603acafb-d4d9-4873-bdd7-1184e0f0bad2"
      },
      "execution_count": 8,
      "outputs": [
        {
          "output_type": "execute_result",
          "data": {
            "text/plain": [
              "[('123876122', 6),\n",
              " ('123872822', 2),\n",
              " ('123876171', 2),\n",
              " ('123876142', 4),\n",
              " ('123823122', 1),\n",
              " ('123809822', 1),\n",
              " ('123376422', 1),\n",
              " ('123802671', 1),\n",
              " ('123823822', 2),\n",
              " ('123872322', 3),\n",
              " ('123872829', 6),\n",
              " ('720127541', 2),\n",
              " ('123456789', 5),\n",
              " ('123822322', 1),\n",
              " ('123830822', 1)]"
            ]
          },
          "metadata": {},
          "execution_count": 8
        }
      ]
    },
    {
      "cell_type": "code",
      "source": [
        "#Checking for debited amount for an account\n",
        "def checkDebit(d):\n",
        "  return d=='D'\n",
        "bank.filter(lambda d:checkDebit(d.split('\\t')[3])).map(lambda d:(d.split('\\t')[1],int(d.split('\\t')[4]))).reduceByKey(lambda a,b:a+b).collect()\n",
        ""
      ],
      "metadata": {
        "colab": {
          "base_uri": "https://localhost:8080/"
        },
        "id": "c3bZ1kJXg6Y8",
        "outputId": "995de75a-304f-4b58-bcae-4246fdb8f475"
      },
      "execution_count": 12,
      "outputs": [
        {
          "output_type": "execute_result",
          "data": {
            "text/plain": [
              "[('123876122', 1000),\n",
              " ('123876171', 50000),\n",
              " ('123876142', 10000),\n",
              " ('123376422', 250),\n",
              " ('123802671', 25000),\n",
              " ('123456789', 25000)]"
            ]
          },
          "metadata": {},
          "execution_count": 12
        }
      ]
    },
    {
      "cell_type": "code",
      "source": [
        "#Get the number of transactions per a year for an account\n",
        "bank.map(lambda d:(d.split('\\t')[1]+\" \"+d.split('\\t')[2],1)).reduceByKey(lambda a,b:a+b).collect()"
      ],
      "metadata": {
        "colab": {
          "base_uri": "https://localhost:8080/"
        },
        "id": "b_0GasWfg6SG",
        "outputId": "449ff456-3611-4516-dc05-65c7e934bf43"
      },
      "execution_count": 13,
      "outputs": [
        {
          "output_type": "execute_result",
          "data": {
            "text/plain": [
              "[('123823822 23-10-2021', 1),\n",
              " ('123876122 23-10-2019', 1),\n",
              " ('123876142 06-01-2006', 2),\n",
              " ('123872829 30-01-2001', 2),\n",
              " ('123809822 23-10-2021', 1),\n",
              " ('123802671 23-10-2021', 1),\n",
              " ('123830822 23-10-2021', 1),\n",
              " ('123876142 11-04-2000', 1),\n",
              " ('123456789 03-10-2011', 1),\n",
              " ('123876122 06-08-2015', 1),\n",
              " ('123823822 23-10-2020', 1),\n",
              " ('123876122 23-10-2021', 4),\n",
              " ('123872822 23-10-2021', 2),\n",
              " ('123876171 23-10-2021', 1),\n",
              " ('123872322 23-10-2021', 1),\n",
              " ('123876142 23-10-2021', 1),\n",
              " ('123872829 23-10-2021', 1),\n",
              " ('720127541 03-1-2010', 2),\n",
              " ('123456789 23-11-2020', 1),\n",
              " ('123456789 23-12-2020', 1),\n",
              " ('123456789 23-10-2020', 1),\n",
              " ('123876171 13-10-2005', 1),\n",
              " ('123872322 15-11-2012', 2),\n",
              " ('123872829 30-11-2001', 1),\n",
              " ('123872829 30-07-2001', 1),\n",
              " ('123823122 23-10-2021', 1),\n",
              " ('123376422 23-10-2021', 1),\n",
              " ('123822322 23-10-2021', 1),\n",
              " ('123872829 21-07-2002', 1),\n",
              " ('123456789 13-10-2005', 1)]"
            ]
          },
          "metadata": {},
          "execution_count": 13
        }
      ]
    },
    {
      "cell_type": "code",
      "source": [],
      "metadata": {
        "id": "Cg2g2G0ghASe"
      },
      "execution_count": null,
      "outputs": []
    },
    {
      "cell_type": "code",
      "source": [],
      "metadata": {
        "id": "ACP5dbCfhAP2"
      },
      "execution_count": null,
      "outputs": []
    },
    {
      "cell_type": "code",
      "source": [],
      "metadata": {
        "id": "A8vaP1uZhAM-"
      },
      "execution_count": null,
      "outputs": []
    }
  ]
}